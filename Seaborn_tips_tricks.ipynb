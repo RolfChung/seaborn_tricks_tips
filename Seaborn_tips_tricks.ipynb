{
 "cells": [
  {
   "cell_type": "markdown",
   "id": "hungry-bulletin",
   "metadata": {},
   "source": [
    "# Summary\n",
    "\n",
    "<p>\n",
    "This is a code repository with seaborn code examples.<br>\n",
    "Additonally there are some Pandas and Plotly examples given.<br>\n",
    "Data preparation is largely conducted with Pandas and Numpy.<br>\n",
    "There are a lot of topics covered here.<br>\n",
    "Some are:\n",
    "</p>\n",
    "\n",
    "\n",
    "<ul>\n",
    "  <li>Regression plots</li>\n",
    "  <li>Heatmaps</li>\n",
    "  <li>boxplots</li>\n",
    "  <li>kws</li>\n",
    "  <li>kwargs</li>\n",
    "  <li>Jointplots</li>\n",
    "  <li>Color_Palettes</li>\n",
    "  <li>set_context</li>\n",
    "  <li>set_style</li>\n",
    "  <li>plt.subplots</li>\n",
    "  <li>set_theme</li>\n",
    "  <li>rc_params</li>\n",
    "\n",
    "</ul> \n",
    "\n",
    "<p>\n",
    "This is an ongoing project.\n",
    "</p>\n"
   ]
  },
  {
   "cell_type": "code",
   "execution_count": 1,
   "id": "monthly-intensity",
   "metadata": {},
   "outputs": [],
   "source": [
    "# Import packages"
   ]
  },
  {
   "cell_type": "code",
   "execution_count": 2,
   "id": "specialized-manufacturer",
   "metadata": {},
   "outputs": [],
   "source": [
    "import pandas as pd\n",
    "import pandas_datareader.data as web\n",
    "import datetime as dt"
   ]
  },
  {
   "cell_type": "code",
   "execution_count": 3,
   "id": "gorgeous-moscow",
   "metadata": {},
   "outputs": [
    {
     "name": "stdout",
     "output_type": "stream",
     "text": [
      "1.3.4\n",
      "Latest version: 1.3.5\n"
     ]
    }
   ],
   "source": [
    "print(pd.__version__)\n",
    "print('Latest version: 1.3.5')"
   ]
  },
  {
   "cell_type": "code",
   "execution_count": 4,
   "id": "contrary-mixer",
   "metadata": {},
   "outputs": [],
   "source": [
    "import numpy as np\n",
    "import os as os"
   ]
  },
  {
   "cell_type": "code",
   "execution_count": 5,
   "id": "liquid-haven",
   "metadata": {},
   "outputs": [
    {
     "data": {
      "text/plain": [
       "array([ 1,  2,  3,  4,  5,  6,  7,  8,  9, 10, 11, 12, 13, 14, 15, 16, 17,\n",
       "       18, 19, 20, 21, 22, 23, 24, 25, 26, 27, 28, 29, 30, 31, 32, 33, 34,\n",
       "       35, 36, 37, 38, 39, 40, 41, 42, 43, 44, 45, 46, 47, 48, 49, 50, 51,\n",
       "       52, 53, 54, 55, 56, 57, 58, 59, 60, 61, 62, 63, 64, 65, 66, 67, 68,\n",
       "       69, 70, 71, 72, 73, 74, 75, 76, 77, 78, 79, 80, 81, 82, 83, 84, 85,\n",
       "       86, 87, 88, 89, 90, 91, 92, 93, 94, 95, 96, 97, 98, 99])"
      ]
     },
     "execution_count": 5,
     "metadata": {},
     "output_type": "execute_result"
    }
   ],
   "source": [
    "np.arange(1,100)"
   ]
  },
  {
   "cell_type": "code",
   "execution_count": 6,
   "id": "dense-neutral",
   "metadata": {},
   "outputs": [],
   "source": [
    "import seaborn as sns"
   ]
  },
  {
   "cell_type": "code",
   "execution_count": 7,
   "id": "widespread-velvet",
   "metadata": {},
   "outputs": [],
   "source": [
    "import geopandas as gpd"
   ]
  },
  {
   "cell_type": "code",
   "execution_count": 8,
   "id": "specified-lyric",
   "metadata": {},
   "outputs": [],
   "source": [
    "%%capture\n",
    "!pip install folium --upgrade"
   ]
  },
  {
   "cell_type": "code",
   "execution_count": 9,
   "id": "fifth-baseline",
   "metadata": {},
   "outputs": [],
   "source": [
    "%%capture\n",
    "conda_packages = ! conda list"
   ]
  },
  {
   "cell_type": "code",
   "execution_count": 10,
   "id": "genetic-trick",
   "metadata": {},
   "outputs": [
    {
     "name": "stdout",
     "output_type": "stream",
     "text": [
      "<class 'IPython.utils.text.SList'>\n"
     ]
    }
   ],
   "source": [
    "print(type(conda_packages))"
   ]
  },
  {
   "cell_type": "code",
   "execution_count": 11,
   "id": "underlying-incident",
   "metadata": {},
   "outputs": [],
   "source": [
    "# import pandas as pd\n",
    "import matplotlib.pyplot as plt\n",
    "%matplotlib inline\n",
    "import seaborn as sns\n",
    "\n",
    "import numpy as np\n",
    "import os as os\n",
    "import time\n",
    "import pprint\n",
    "import sys\n",
    "\n",
    "# import unidecode\n",
    "\n",
    "from collections import OrderedDict\n",
    "import itertools\n",
    "\n",
    "# geographic\n",
    "import geopandas as gpd\n",
    "import json, requests\n",
    "from shapely.geometry import Point\n",
    "from shapely.geometry import Polygon, mapping, shape\n",
    "from shapely.geometry.multipolygon import MultiPolygon\n",
    "from shapely import wkt\n",
    "import folium\n",
    "import fiona; fiona.supported_drivers\n",
    "import geopy\n",
    "from geopy.geocoders import Nominatim\n",
    "from functools import partial\n",
    "import chardet\n",
    "import contextily\n",
    "\n"
   ]
  },
  {
   "cell_type": "code",
   "execution_count": 12,
   "id": "median-hampshire",
   "metadata": {},
   "outputs": [],
   "source": [
    "import matplotlib as mpl\n",
    "from cycler import cycler\n",
    "import re\n",
    "import json\n",
    "import itertools\n",
    "import datetime as dt\n",
    "import scipy.stats as stats\n",
    "import scipy"
   ]
  },
  {
   "cell_type": "markdown",
   "id": "overall-award",
   "metadata": {},
   "source": [
    "### Listing required packages\n",
    "<p>\n",
    "Creating a new folder txt, if folder does not exist.\n",
    "</p>"
   ]
  },
  {
   "cell_type": "code",
   "execution_count": 13,
   "id": "norwegian-insulation",
   "metadata": {},
   "outputs": [],
   "source": [
    "newpath = r'txt' \n",
    "if not os.path.exists(newpath):\n",
    "    os.makedirs(newpath)"
   ]
  },
  {
   "cell_type": "code",
   "execution_count": 14,
   "id": "latter-street",
   "metadata": {},
   "outputs": [],
   "source": [
    "pip_freeze = !pip freeze"
   ]
  },
  {
   "cell_type": "code",
   "execution_count": 15,
   "id": "cultural-honey",
   "metadata": {},
   "outputs": [],
   "source": [
    "with open('txt/pip_freeze.txt', 'w') as f:\n",
    "    for line in pip_freeze:\n",
    "        f.write(line)\n",
    "        f.write('\\n')"
   ]
  },
  {
   "cell_type": "code",
   "execution_count": null,
   "id": "behind-fluid",
   "metadata": {},
   "outputs": [],
   "source": [
    "conda_list = !conda list\n",
    "\n",
    "with open('txt/requirements.txt', 'w') as f:\n",
    "    for line in conda_list:\n",
    "        f.write(line)\n",
    "        f.write('\\n')"
   ]
  },
  {
   "cell_type": "markdown",
   "id": "continuing-vertical",
   "metadata": {},
   "source": [
    "### Display seaborn color palettes"
   ]
  },
  {
   "cell_type": "code",
   "execution_count": null,
   "id": "exceptional-shipping",
   "metadata": {},
   "outputs": [],
   "source": [
    "sns.palettes.SEABORN_PALETTES"
   ]
  },
  {
   "cell_type": "code",
   "execution_count": null,
   "id": "indirect-switzerland",
   "metadata": {},
   "outputs": [],
   "source": [
    "for p in sns.palettes.SEABORN_PALETTES:\n",
    "    sns.set_palette(p)\n",
    "    sns.palplot(sns.color_palette())\n",
    "    plt.show()"
   ]
  },
  {
   "cell_type": "markdown",
   "id": "appreciated-hypothesis",
   "metadata": {},
   "source": [
    "#### Creating seaborn color palettes\n",
    "autonomously."
   ]
  },
  {
   "cell_type": "code",
   "execution_count": null,
   "id": "massive-sound",
   "metadata": {},
   "outputs": [],
   "source": [
    "# Palplot creates the color image\n",
    "sns.palplot(sns.color_palette('Purples', 5))\n",
    "plt.show()"
   ]
  },
  {
   "cell_type": "code",
   "execution_count": null,
   "id": "affiliated-translation",
   "metadata": {},
   "outputs": [],
   "source": [
    "# It seems Jupyter creates the image without palplot\n",
    "cp_purple = sns.color_palette('Purples', 5)\n",
    "cp_purple "
   ]
  },
  {
   "cell_type": "code",
   "execution_count": null,
   "id": "quarterly-volunteer",
   "metadata": {},
   "outputs": [],
   "source": [
    "cp_husl = sns.color_palette('husl', 12)\n",
    "cp_husl"
   ]
  },
  {
   "cell_type": "code",
   "execution_count": null,
   "id": "rolled-football",
   "metadata": {},
   "outputs": [],
   "source": [
    "cp_coolwarm = sns.color_palette('coolwarm', 20)\n",
    "sns.palplot(cp_coolwarm)\n",
    "plt.show()"
   ]
  },
  {
   "cell_type": "markdown",
   "id": "blocked-coupon",
   "metadata": {},
   "source": [
    "#### Plotly"
   ]
  },
  {
   "cell_type": "code",
   "execution_count": null,
   "id": "quality-pantyhose",
   "metadata": {},
   "outputs": [],
   "source": [
    "from plotly.offline import init_notebook_mode\n",
    "init_notebook_mode(connected = True)\n",
    "\n",
    "# plotly.offline.init_notebook_mode(connected=True)\n",
    "\n",
    "# plotly\n",
    "import plotly\n",
    "import plotly.express as px\n",
    "# plotly.tools.set_credentials_file(username = 'lathkar', api_key = '************')\n",
    "\n",
    "import plotly.io as pio\n",
    "\n",
    "import chart_studio.plotly as py\n",
    "import plotly.graph_objects as go\n",
    "from plotly.subplots import make_subplots\n",
    "\n",
    "# Set notebook mode to work in offline\n",
    "import plotly.offline as pyo\n",
    "pyo.init_notebook_mode()\n",
    "\n",
    "import plotly.io as pio\n",
    "print(pio.renderers)\n",
    "\n",
    "pio.renderers.default = 'jupyterlab'\n",
    "\n",
    "\n",
    "plotly.offline.init_notebook_mode(connected=True)"
   ]
  },
  {
   "cell_type": "code",
   "execution_count": null,
   "id": "minimal-assets",
   "metadata": {},
   "outputs": [],
   "source": [
    "fig = px.bar(x=[\"a\", \"b\", \"c\"], y=[1, 3, 2])\n",
    "fig.write_html('first_figure.html', auto_open=True)"
   ]
  },
  {
   "cell_type": "code",
   "execution_count": null,
   "id": "destroyed-seven",
   "metadata": {},
   "outputs": [],
   "source": [
    "fig = px.bar(x=[\"a\", \"b\", \"c\"], y=[1, 3, 2])\n",
    "fig.show()"
   ]
  },
  {
   "cell_type": "markdown",
   "id": "plain-navigator",
   "metadata": {},
   "source": [
    "#### Geopy"
   ]
  },
  {
   "cell_type": "code",
   "execution_count": null,
   "id": "twenty-infrastructure",
   "metadata": {},
   "outputs": [],
   "source": [
    "import geopy\n",
    "from geopy.geocoders import Nominatim\n",
    "from geopy.extra.rate_limiter import RateLimiter\n",
    "from geopy import distance\n"
   ]
  },
  {
   "cell_type": "code",
   "execution_count": null,
   "id": "opening-mother",
   "metadata": {},
   "outputs": [],
   "source": [
    "print(\"Version Pandas: {}\".format(pd.__version__))\n",
    "print(\"Version Geopandas: {}\".format(gpd.__version__))\n",
    "print(\"Version Numpy: {}\".format(np.__version__))\n"
   ]
  },
  {
   "cell_type": "code",
   "execution_count": null,
   "id": "numeric-couple",
   "metadata": {},
   "outputs": [],
   "source": [
    "# conda search -f folium"
   ]
  },
  {
   "cell_type": "code",
   "execution_count": null,
   "id": "strong-italian",
   "metadata": {},
   "outputs": [],
   "source": [
    "1+1"
   ]
  },
  {
   "cell_type": "markdown",
   "id": "going-grocery",
   "metadata": {},
   "source": [
    "OS"
   ]
  },
  {
   "cell_type": "code",
   "execution_count": null,
   "id": "strange-deposit",
   "metadata": {},
   "outputs": [],
   "source": [
    "import os\n",
    "print(os.getcwd())\n",
    "print(os.name)\n",
    "print(os.listdir())"
   ]
  },
  {
   "cell_type": "code",
   "execution_count": null,
   "id": "ethical-religious",
   "metadata": {},
   "outputs": [],
   "source": [
    "import types\n",
    "def imports():\n",
    "    for name, val in globals().items():\n",
    "        if isinstance(val, types.ModuleType):\n",
    "            yield val.__name__\n",
    "list(imports())"
   ]
  },
  {
   "cell_type": "code",
   "execution_count": null,
   "id": "english-vatican",
   "metadata": {},
   "outputs": [],
   "source": [
    "# Seaborn | Style And Color: ttps://www.geeksforgeeks.org/seaborn-style-and-color/\n",
    "sns.set() \n",
    "sns.set_style(\"darkgrid\") \n",
    "sns.set_style(\"ticks\", {\"xtick.major.size\":20, \"ytick.major.size\":20})\n",
    "sns.set_theme(style=\"darkgrid\")\n"
   ]
  },
  {
   "cell_type": "code",
   "execution_count": null,
   "id": "coated-child",
   "metadata": {},
   "outputs": [],
   "source": [
    "currentwd = os.getcwd()\n",
    "print(currentwd)"
   ]
  },
  {
   "cell_type": "markdown",
   "id": "global-boston",
   "metadata": {},
   "source": [
    "## Importing the data\n",
    "### Company revenue data"
   ]
  },
  {
   "cell_type": "code",
   "execution_count": null,
   "id": "secure-timothy",
   "metadata": {},
   "outputs": [],
   "source": [
    "company_revenue = pd.read_csv(\"csv/revenue_data.csv\")"
   ]
  },
  {
   "cell_type": "code",
   "execution_count": null,
   "id": "convinced-evening",
   "metadata": {},
   "outputs": [],
   "source": [
    "company_revenue.shape"
   ]
  },
  {
   "cell_type": "code",
   "execution_count": null,
   "id": "ancient-instrumentation",
   "metadata": {},
   "outputs": [],
   "source": [
    "company_revenue.columns.tolist()"
   ]
  },
  {
   "cell_type": "code",
   "execution_count": null,
   "id": "built-camping",
   "metadata": {},
   "outputs": [],
   "source": [
    "company_revenue.info()"
   ]
  },
  {
   "cell_type": "code",
   "execution_count": null,
   "id": "serious-velvet",
   "metadata": {},
   "outputs": [],
   "source": [
    "company_revenue.head()"
   ]
  },
  {
   "cell_type": "code",
   "execution_count": null,
   "id": "selective-beauty",
   "metadata": {},
   "outputs": [],
   "source": [
    "sns.histplot(x='Revenue', data=company_revenue, edgecolor='black', color='forestgreen')\n",
    "plt.title(\"Distribution of revenue data\")\n",
    "plt.show()"
   ]
  },
  {
   "cell_type": "code",
   "execution_count": null,
   "id": "recreational-desperate",
   "metadata": {},
   "outputs": [],
   "source": [
    "company_revenue_topten = company_revenue.sort_values(by='Revenue', ascending=False)[:10]\n",
    "company_revenue_topten"
   ]
  },
  {
   "cell_type": "code",
   "execution_count": null,
   "id": "stainless-finland",
   "metadata": {},
   "outputs": [],
   "source": [
    "fig,ax=plt.subplots(1,1, figsize=(8,4))\n",
    "sns.barplot(x='Company', y='Revenue', data=company_revenue_topten, edgecolor='black',\n",
    "            palette='plasma', ax=ax)\n",
    "plt.xticks(rotation=90)\n",
    "plt.title('Revenue by company')\n",
    "plt.show()"
   ]
  },
  {
   "cell_type": "markdown",
   "id": "pending-friday",
   "metadata": {},
   "source": [
    "### Penguin data"
   ]
  },
  {
   "cell_type": "code",
   "execution_count": null,
   "id": "mental-football",
   "metadata": {},
   "outputs": [],
   "source": [
    "penguins = pd.read_csv(\"csv/penguins.csv\")"
   ]
  },
  {
   "cell_type": "code",
   "execution_count": null,
   "id": "first-interim",
   "metadata": {},
   "outputs": [],
   "source": [
    "penguins.shape"
   ]
  },
  {
   "cell_type": "code",
   "execution_count": null,
   "id": "assisted-prime",
   "metadata": {},
   "outputs": [],
   "source": [
    "penguins.columns.tolist()"
   ]
  },
  {
   "cell_type": "code",
   "execution_count": null,
   "id": "ideal-irrigation",
   "metadata": {},
   "outputs": [],
   "source": [
    "penguins.info()"
   ]
  },
  {
   "cell_type": "code",
   "execution_count": null,
   "id": "iraqi-devices",
   "metadata": {},
   "outputs": [],
   "source": [
    "penguins.iloc[:4, :7]"
   ]
  },
  {
   "cell_type": "code",
   "execution_count": null,
   "id": "surrounded-completion",
   "metadata": {},
   "outputs": [],
   "source": [
    "peng_island = penguins.groupby('Island').size()\n",
    "peng_island"
   ]
  },
  {
   "cell_type": "code",
   "execution_count": null,
   "id": "indirect-litigation",
   "metadata": {},
   "outputs": [],
   "source": [
    "penguins.groupby('Island').size().plot.pie(autopct='%1.0f%%', figsize=(5,5))\n",
    "plt.show()"
   ]
  },
  {
   "cell_type": "markdown",
   "id": "provincial-duplicate",
   "metadata": {},
   "source": [
    "### Company data"
   ]
  },
  {
   "cell_type": "code",
   "execution_count": null,
   "id": "configured-money",
   "metadata": {},
   "outputs": [],
   "source": [
    "companies = pd.read_csv(\"csv/companies.csv\")\n",
    "\n",
    "companies.shape"
   ]
  },
  {
   "cell_type": "code",
   "execution_count": null,
   "id": "unusual-engineer",
   "metadata": {},
   "outputs": [],
   "source": [
    "companies.info()"
   ]
  },
  {
   "cell_type": "code",
   "execution_count": null,
   "id": "martial-daniel",
   "metadata": {},
   "outputs": [],
   "source": [
    "companies.describe()"
   ]
  },
  {
   "cell_type": "code",
   "execution_count": null,
   "id": "color-prairie",
   "metadata": {},
   "outputs": [],
   "source": [
    "companies.head()"
   ]
  },
  {
   "cell_type": "code",
   "execution_count": null,
   "id": "introductory-reverse",
   "metadata": {},
   "outputs": [],
   "source": [
    "companies_byrevenue = companies.groupby('Industry')['Revenue'].sum()\n",
    "companies_byrevenue"
   ]
  },
  {
   "cell_type": "code",
   "execution_count": null,
   "id": "english-yukon",
   "metadata": {},
   "outputs": [],
   "source": [
    "companies_byrevenue.sort_values(ascending=False).plot.bar(edgecolor='black', linewidth=2,\n",
    "                                           color=['mediumvioletred', 'springgreen','mintcream'])\n",
    "plt.show()"
   ]
  },
  {
   "cell_type": "code",
   "execution_count": null,
   "id": "monetary-bahamas",
   "metadata": {},
   "outputs": [],
   "source": [
    "chinese_companies = pd.read_csv(\"csv/companies_china.csv\")\n",
    "chinese_companies.shape"
   ]
  },
  {
   "cell_type": "code",
   "execution_count": null,
   "id": "nutritional-model",
   "metadata": {},
   "outputs": [],
   "source": [
    "chinese_companies.info()"
   ]
  },
  {
   "cell_type": "code",
   "execution_count": null,
   "id": "protecting-gallery",
   "metadata": {},
   "outputs": [],
   "source": [
    "chinese_companies.head()"
   ]
  },
  {
   "cell_type": "code",
   "execution_count": null,
   "id": "presidential-moment",
   "metadata": {},
   "outputs": [],
   "source": []
  },
  {
   "cell_type": "code",
   "execution_count": null,
   "id": "southeast-dialogue",
   "metadata": {},
   "outputs": [],
   "source": [
    "chinese_companies_agg = \\\n",
    "chinese_companies.groupby('industry')['valuation'].\\\n",
    "aggregate(['sum', 'mean', 'median', 'min', 'max']).sort_values(by='sum', ascending=False)\n",
    "\n",
    "chinese_companies_agg.reset_index(inplace=True)\n",
    "\n",
    "chinese_companies_agg.head()"
   ]
  },
  {
   "cell_type": "code",
   "execution_count": null,
   "id": "bright-relations",
   "metadata": {},
   "outputs": [],
   "source": [
    "sns.set_style('darkgrid')\n",
    "sns.set(rc={'axes.facecolor':'black'})\n",
    "\n",
    "fig, (ax1, ax2) = plt.subplots(1,2, figsize=(14,5))\n",
    "plt.suptitle('Chinese companies')\n",
    "\n",
    "sns.histplot(x='valuation', data = chinese_companies, ax=ax1, \n",
    "             edgecolor='red', linewidth=1, color='red', bins=20)\n",
    "ax1.set_title('Distribution of valuation')\n",
    "\n",
    "sns.barplot(x='industry', y='sum', data = chinese_companies_agg, ax=ax2, \n",
    "            edgecolor='red', linewidth=1, palette='PRGn_r')\n",
    "ax2.set_title('Valuation by industry')\n",
    "plt.xticks(rotation=90)\n",
    "\n",
    "plt.show()"
   ]
  },
  {
   "cell_type": "markdown",
   "id": "greater-rally",
   "metadata": {},
   "source": [
    "### Sydney temp data"
   ]
  },
  {
   "cell_type": "code",
   "execution_count": null,
   "id": "introductory-liberia",
   "metadata": {},
   "outputs": [],
   "source": [
    "sydney = pd.read_csv(\"csv/sydney_temps.csv\")\n",
    "sydney = sydney[:213]\n",
    "sydney['Date'] = pd.to_datetime(sydney['Date'], format =\"%-d/%-m%/%-Y\", errors='raise', infer_datetime_format=True)"
   ]
  },
  {
   "cell_type": "code",
   "execution_count": null,
   "id": "working-member",
   "metadata": {},
   "outputs": [],
   "source": [
    "sydney.info()"
   ]
  },
  {
   "cell_type": "code",
   "execution_count": null,
   "id": "disabled-escape",
   "metadata": {},
   "outputs": [],
   "source": [
    "sydney.Temp.describe()"
   ]
  },
  {
   "cell_type": "code",
   "execution_count": null,
   "id": "narrative-fifth",
   "metadata": {},
   "outputs": [],
   "source": [
    "sydney.head()"
   ]
  },
  {
   "cell_type": "code",
   "execution_count": null,
   "id": "falling-roads",
   "metadata": {},
   "outputs": [],
   "source": [
    "paper_rc = {'lines.linewidth': 3}                  \n",
    "sns.set_context(\"paper\", rc = paper_rc, font_scale=2)                                    \n",
    "\n",
    "plt.figure(figsize=(10,3))\n",
    "\n",
    "ax = sns.lineplot(x='Date', y='Temp', data=sydney, color='red')\n",
    "plt.xticks(rotation=45)\n",
    "ax.set_title(\"Temp data of Sydney\")\n",
    "\n",
    "plt.show()"
   ]
  },
  {
   "cell_type": "code",
   "execution_count": null,
   "id": "paperback-flexibility",
   "metadata": {},
   "outputs": [],
   "source": [
    "sydney_average = pd.read_csv(\"csv/sydney_temps_average_month.csv\", header=0, sep=\";\")\n",
    "\n",
    "sydney_average "
   ]
  },
  {
   "cell_type": "code",
   "execution_count": null,
   "id": "entire-panel",
   "metadata": {},
   "outputs": [],
   "source": [
    "sydney_average['Date'] = pd.to_datetime(sydney_average['Date'], errors=\"coerce\",\n",
    "                                        format=\"%Y-%m-%d\")"
   ]
  },
  {
   "cell_type": "code",
   "execution_count": null,
   "id": "simple-alexander",
   "metadata": {},
   "outputs": [],
   "source": [
    "sydney_average.info()"
   ]
  },
  {
   "cell_type": "code",
   "execution_count": null,
   "id": "intensive-directory",
   "metadata": {},
   "outputs": [],
   "source": [
    "sydney_average"
   ]
  },
  {
   "cell_type": "code",
   "execution_count": null,
   "id": "retained-breed",
   "metadata": {},
   "outputs": [],
   "source": [
    "sns.set_context(\"notebook\",\n",
    "                rc={'lines.linewidth':5})\n",
    "\n",
    "sns.set_style(\"whitegrid\")\n",
    "\n",
    "fig, (ax1, ax2) = plt.subplots(2, 1, figsize=(10,5))\n",
    "\n",
    "sns.lineplot(x='Date' , y='Average', data=sydney_average, color=\"red\", ax=ax2)\n",
    "\n",
    "\n",
    "sns.barplot(x='Date' , y='Average', data=sydney_average, ax=ax1)\n",
    "\n",
    "# https://www.geeksforgeeks.org/matplotlib-figure-figure-autofmt_xdate-in-python/\n",
    "fig.autofmt_xdate()\n",
    "\n",
    "plt.xticks(rotation=90)\n",
    "\n",
    "\n",
    "plt.show()"
   ]
  },
  {
   "cell_type": "code",
   "execution_count": null,
   "id": "blank-contents",
   "metadata": {},
   "outputs": [],
   "source": [
    "from pandas_datareader import wb\n",
    "worldbank = wb.download(indicator='NY.GDP.PCAP.KD', country=['US', 'CA', 'MX'], start=2005, end=2008)"
   ]
  },
  {
   "cell_type": "code",
   "execution_count": null,
   "id": "attractive-static",
   "metadata": {},
   "outputs": [],
   "source": [
    "worldbank.info()"
   ]
  },
  {
   "cell_type": "code",
   "execution_count": null,
   "id": "assigned-associate",
   "metadata": {},
   "outputs": [],
   "source": [
    "worldbank.head()"
   ]
  },
  {
   "cell_type": "code",
   "execution_count": null,
   "id": "romantic-retrieval",
   "metadata": {},
   "outputs": [],
   "source": [
    "gdp_mean = worldbank['NY.GDP.PCAP.KD'].groupby(level=0).mean()\n",
    "gdp_mean"
   ]
  },
  {
   "cell_type": "code",
   "execution_count": null,
   "id": "changing-parks",
   "metadata": {},
   "outputs": [],
   "source": [
    "plt.bar(x=gdp_mean.index, height=gdp_mean, \n",
    "        color=['cyan','mediumvioletred', 'rebeccapurple'],\n",
    "        edgecolor='black', linewidth=3)\n",
    "\n",
    "plt.title(\"Mean GDP's by country\")\n",
    "\n",
    "plt.show()"
   ]
  },
  {
   "cell_type": "markdown",
   "id": "identical-arcade",
   "metadata": {},
   "source": [
    "### Getting stock prices of Tesla\n",
    "\n",
    "<p>\n",
    "Yahoo makes problems with Yahoo.<br>\n",
    "<a href=\"https://stackoverflow.com/questions/44045158/python-pandas-datareader-no-longer-works-for-yahoo-finance-changed-url\" target=\"_blank\">Python pandas datareader no longer works for yahoo-finance changed url</a><br>\n",
    "Some workarounds are suggested there.<br>\n",
    "Here: source = 'stooq' is choosen.\n",
    "</p>"
   ]
  },
  {
   "cell_type": "code",
   "execution_count": null,
   "id": "defensive-december",
   "metadata": {},
   "outputs": [],
   "source": [
    "start_tesla = dt.datetime(2020,1,1)\n",
    "print(start_tesla)\n",
    "\n",
    "end_tesla = dt.datetime(2021,12,30) \n",
    "print(end_tesla )\n",
    "\n",
    "source = 'stooq'\n",
    "\n",
    "tesla_symbol = 'TSLA'\n",
    "print(tesla_symbol)\n",
    "\n",
    "tesla_stock_data = \\\n",
    "web.DataReader(tesla_symbol, source, start_tesla, end_tesla)"
   ]
  },
  {
   "cell_type": "code",
   "execution_count": null,
   "id": "atomic-regulation",
   "metadata": {},
   "outputs": [],
   "source": [
    "tesla_stock_data.info()"
   ]
  },
  {
   "cell_type": "code",
   "execution_count": null,
   "id": "precious-payment",
   "metadata": {},
   "outputs": [],
   "source": [
    "tesla_stock_data.head()"
   ]
  },
  {
   "cell_type": "code",
   "execution_count": null,
   "id": "brazilian-mineral",
   "metadata": {},
   "outputs": [],
   "source": [
    "tesla_stock_data.describe()"
   ]
  },
  {
   "cell_type": "code",
   "execution_count": null,
   "id": "afraid-multiple",
   "metadata": {},
   "outputs": [],
   "source": [
    "tesla_aggs = tesla_stock_data.describe().loc[['mean', 'max', 'min']].transpose().reset_index()\n",
    "tesla_aggs=tesla_aggs.drop(tesla_aggs.index[4], axis=0)\n",
    "tesla_aggs"
   ]
  },
  {
   "cell_type": "code",
   "execution_count": null,
   "id": "sunrise-general",
   "metadata": {},
   "outputs": [],
   "source": [
    "tesla_aggs.rename(columns={'index':'course'}, inplace=True)\n",
    "tesla_aggs\n"
   ]
  },
  {
   "cell_type": "code",
   "execution_count": null,
   "id": "decimal-boulder",
   "metadata": {},
   "outputs": [],
   "source": [
    "tesla_aggs.info()"
   ]
  },
  {
   "cell_type": "markdown",
   "id": "further-southwest",
   "metadata": {},
   "source": [
    "#### Clustered bar chart of aggregates"
   ]
  },
  {
   "cell_type": "code",
   "execution_count": null,
   "id": "grave-voltage",
   "metadata": {},
   "outputs": [],
   "source": [
    "tesla_aggs.plot.bar(x='course', edgecolor='black', color=['red', 'green', 'magenta'])\n",
    "plt.show()"
   ]
  },
  {
   "cell_type": "code",
   "execution_count": null,
   "id": "developmental-individual",
   "metadata": {},
   "outputs": [],
   "source": [
    "tesla_stock_data.plot(subplots=True, figsize=(10,10), linewidth=2,\n",
    "                      title=\"Tesla stock prices\")\n",
    "plt.show()"
   ]
  },
  {
   "cell_type": "markdown",
   "id": "second-chicago",
   "metadata": {},
   "source": [
    "### Rainfall data"
   ]
  },
  {
   "cell_type": "code",
   "execution_count": null,
   "id": "first-rider",
   "metadata": {},
   "outputs": [],
   "source": [
    "rain = pd.read_csv(\"csv/rain.csv\")\n",
    "rain.head(2)"
   ]
  },
  {
   "cell_type": "code",
   "execution_count": null,
   "id": "fifteen-accountability",
   "metadata": {},
   "outputs": [],
   "source": [
    "rain['Date'] = pd.to_datetime(rain['Date'], errors='coerce', infer_datetime_format=True)"
   ]
  },
  {
   "cell_type": "code",
   "execution_count": null,
   "id": "through-deputy",
   "metadata": {},
   "outputs": [],
   "source": [
    "rain.sort_values(by='Date', inplace=True)"
   ]
  },
  {
   "cell_type": "code",
   "execution_count": null,
   "id": "detected-connection",
   "metadata": {},
   "outputs": [],
   "source": [
    "rain.info()\n"
   ]
  },
  {
   "cell_type": "code",
   "execution_count": null,
   "id": "afraid-capitol",
   "metadata": {},
   "outputs": [],
   "source": [
    "rain.head(2)"
   ]
  },
  {
   "cell_type": "code",
   "execution_count": null,
   "id": "sporting-pursuit",
   "metadata": {},
   "outputs": [],
   "source": [
    "fig_rain, ax =  plt.subplots(2,2, figsize=(10,5))\n",
    "plt.suptitle('Rainfall dashboard')\n",
    "\n",
    "ax[0,1].hist(rain['Rainfall'], edgecolor='black', color='cyan', bins=100)\n",
    "ax[0,1].set_title('Distribution of rainfall')\n",
    "\n",
    "ax[0,0].plot(rain['Date'], rain['Rainfall'], color='crimson', linewidth=0.4)\n",
    "\n",
    "ax[0,0].set_xticks([])\n",
    "\n",
    "ax[0,0].set_title(\"Rainfall over time\")\n",
    "\n",
    "ax[1,0].scatter(rain['Date'], rain['Rainfall'], color='gold', linewidth=0.4, edgecolor='black')\n",
    "\n",
    "for tick in ax[1,0].get_xticklabels():\n",
    "    tick.set_rotation(90)\n",
    "    \n",
    "ax[1,1].set_axis_off()\n",
    "    \n",
    "plt.show()"
   ]
  },
  {
   "cell_type": "markdown",
   "id": "framed-caribbean",
   "metadata": {},
   "source": [
    "### Population data"
   ]
  },
  {
   "cell_type": "code",
   "execution_count": null,
   "id": "south-puppy",
   "metadata": {},
   "outputs": [],
   "source": [
    "pop = \\\n",
    "pd.read_csv(\"csv/world_bank_population.csv\")"
   ]
  },
  {
   "cell_type": "code",
   "execution_count": null,
   "id": "objective-aluminum",
   "metadata": {},
   "outputs": [],
   "source": [
    "pop_test_1 = pop.copy()\n",
    "pop_test_3_sl = pop.copy()\n",
    "pop_test_4_sl = pop.copy()"
   ]
  },
  {
   "cell_type": "code",
   "execution_count": null,
   "id": "toxic-ethiopia",
   "metadata": {},
   "outputs": [],
   "source": [
    "# pop_test_1.info()"
   ]
  },
  {
   "cell_type": "code",
   "execution_count": null,
   "id": "failing-interpretation",
   "metadata": {},
   "outputs": [],
   "source": [
    "pop.shape"
   ]
  },
  {
   "cell_type": "code",
   "execution_count": null,
   "id": "promising-biodiversity",
   "metadata": {},
   "outputs": [],
   "source": [
    "pop.shape[0] * pop.shape[1]"
   ]
  },
  {
   "cell_type": "code",
   "execution_count": null,
   "id": "asian-hopkins",
   "metadata": {},
   "outputs": [],
   "source": [
    "pop.columns[:5]"
   ]
  },
  {
   "cell_type": "markdown",
   "id": "blessed-plymouth",
   "metadata": {},
   "source": [
    "#### Cleaning: [YR\\d{4}\\]"
   ]
  },
  {
   "cell_type": "code",
   "execution_count": null,
   "id": "sought-wildlife",
   "metadata": {},
   "outputs": [],
   "source": [
    "pop.columns = pop.columns.str.replace(\"\\[YR\\d{4}\\]\", \"\", regex=True)"
   ]
  },
  {
   "cell_type": "code",
   "execution_count": null,
   "id": "broad-laundry",
   "metadata": {},
   "outputs": [],
   "source": [
    "pop.columns = pop.columns.str.rstrip()\n",
    "pop.columns[:10]"
   ]
  },
  {
   "cell_type": "code",
   "execution_count": null,
   "id": "statewide-gregory",
   "metadata": {},
   "outputs": [],
   "source": [
    "pop.loc[:2,'1960']"
   ]
  },
  {
   "cell_type": "code",
   "execution_count": null,
   "id": "shaped-compensation",
   "metadata": {},
   "outputs": [],
   "source": [
    "pop.info()"
   ]
  },
  {
   "cell_type": "markdown",
   "id": "bizarre-louisiana",
   "metadata": {},
   "source": [
    "<p>Pop values are objects, but should be a numeric.</p>"
   ]
  },
  {
   "cell_type": "markdown",
   "id": "boxed-hunter",
   "metadata": {},
   "source": [
    "#### Header"
   ]
  },
  {
   "cell_type": "code",
   "execution_count": null,
   "id": "alpha-stock",
   "metadata": {},
   "outputs": [],
   "source": [
    "pop.iloc[:2, :5]"
   ]
  },
  {
   "cell_type": "markdown",
   "id": "separate-consumer",
   "metadata": {},
   "source": [
    "#### Index"
   ]
  },
  {
   "cell_type": "code",
   "execution_count": null,
   "id": "alone-constant",
   "metadata": {},
   "outputs": [],
   "source": [
    "pop.index.tolist()[:5]"
   ]
  },
  {
   "cell_type": "markdown",
   "id": "attended-better",
   "metadata": {},
   "source": [
    "#### Null values"
   ]
  },
  {
   "cell_type": "code",
   "execution_count": null,
   "id": "headed-strap",
   "metadata": {},
   "outputs": [],
   "source": [
    "pop.isnull().sum()"
   ]
  },
  {
   "cell_type": "code",
   "execution_count": null,
   "id": "necessary-absorption",
   "metadata": {},
   "outputs": [],
   "source": [
    "pop.iloc[-5:, :3]"
   ]
  },
  {
   "cell_type": "code",
   "execution_count": null,
   "id": "international-suspension",
   "metadata": {},
   "outputs": [],
   "source": [
    "pop.drop(pop.index[-5:], axis=0, inplace=True)"
   ]
  },
  {
   "cell_type": "code",
   "execution_count": null,
   "id": "grave-sleeping",
   "metadata": {},
   "outputs": [],
   "source": [
    "pop.iloc[-5:, :3]"
   ]
  },
  {
   "cell_type": "code",
   "execution_count": null,
   "id": "cardiac-rates",
   "metadata": {},
   "outputs": [],
   "source": [
    "pop=pop.fillna(0)"
   ]
  },
  {
   "cell_type": "markdown",
   "id": "occupational-summit",
   "metadata": {},
   "source": [
    "### Getting only certain records\n",
    "\n",
    "<p>\n",
    "Apparently the np.r methods cannot be open like this \"4:\".<br>\n",
    "It must be closed like this \"4:7\" instead.\n",
    "</p>"
   ]
  },
  {
   "cell_type": "code",
   "execution_count": null,
   "id": "waiting-intro",
   "metadata": {},
   "outputs": [],
   "source": [
    "certain_records = pop.iloc[:2, np.r_[0, 4:7]]\n",
    "print(certain_records.shape)\n",
    "certain_records"
   ]
  },
  {
   "cell_type": "markdown",
   "id": "choice-ballot",
   "metadata": {},
   "source": [
    "#### Are there any nan values left?"
   ]
  },
  {
   "cell_type": "code",
   "execution_count": null,
   "id": "bottom-beverage",
   "metadata": {},
   "outputs": [],
   "source": [
    "fillna_1 = pop.isnull().sum()\n",
    "print(type(fillna_1 ))\n",
    "\n",
    "print(fillna_1.tolist())"
   ]
  },
  {
   "cell_type": "markdown",
   "id": "agreed-syntax",
   "metadata": {},
   "source": [
    "#### Cleaning: special letters - '..'\n",
    "\n",
    "<p>\n",
    "Searching for '..' in the whole df and return only the rows containg the special letter in a new data frame.<br>\n",
    "A key is to get the index values of rows with \"..\" and subset with these index values the given data frame \"pop\".\n",
    "\"isin\" is col based and does not work for this purpose.<br>\n",
    "\"eq\" instead works.\n",
    "</p>"
   ]
  },
  {
   "cell_type": "code",
   "execution_count": null,
   "id": "advanced-motor",
   "metadata": {},
   "outputs": [],
   "source": [
    "with pd.option_context('display.max_rows', None, 'display.max_columns', None):  # more options can be specified also\n",
    "    equal_sl = pop_test_1 == '..'\n",
    "    print(type(equal_sl))\n",
    "    print(equal_sl.sum())"
   ]
  },
  {
   "cell_type": "code",
   "execution_count": null,
   "id": "ongoing-sharp",
   "metadata": {},
   "outputs": [],
   "source": [
    "equal_sl.sum().sum()"
   ]
  },
  {
   "cell_type": "code",
   "execution_count": null,
   "id": "variable-proceeding",
   "metadata": {},
   "outputs": [],
   "source": [
    "special_letters_1 = pop[pop.eq('..').any(1)]\n",
    "print(special_letters_1.shape)"
   ]
  },
  {
   "cell_type": "code",
   "execution_count": null,
   "id": "surrounded-woman",
   "metadata": {},
   "outputs": [],
   "source": [
    "special_letters_1[:2]"
   ]
  },
  {
   "cell_type": "code",
   "execution_count": null,
   "id": "critical-nation",
   "metadata": {},
   "outputs": [],
   "source": [
    "special_letters_1.index"
   ]
  },
  {
   "cell_type": "code",
   "execution_count": null,
   "id": "correct-character",
   "metadata": {},
   "outputs": [],
   "source": [
    "special_letters_1_index = sorted(special_letters_1.index.tolist())\n",
    "print(special_letters_1_index)"
   ]
  },
  {
   "cell_type": "markdown",
   "id": "thrown-naples",
   "metadata": {},
   "source": [
    "#### Other methods to look up or identify the rows including the special letter 'sl'\n",
    "<p>\n",
    "As this is a common problem different methods are investigated here.\n",
    "Will these produce the same results?\n",
    "</p>"
   ]
  },
  {
   "cell_type": "code",
   "execution_count": null,
   "id": "numerical-bridges",
   "metadata": {},
   "outputs": [],
   "source": [
    "rows_sl = []\n",
    "\n",
    "for col in pop_test_1:\n",
    "    row_indexes = pop_test_1[pop_test_1[col]=='..'].index.tolist()\n",
    "    rows_sl.append(row_indexes)\n",
    "    "
   ]
  },
  {
   "cell_type": "code",
   "execution_count": null,
   "id": "cross-tamil",
   "metadata": {},
   "outputs": [],
   "source": [
    "sl_unique_indexes = set([item for sublist in rows_sl for item in sublist])\n",
    "print(sl_unique_indexes)\n",
    "print(len(sl_unique_indexes))"
   ]
  },
  {
   "cell_type": "code",
   "execution_count": null,
   "id": "portuguese-excitement",
   "metadata": {},
   "outputs": [],
   "source": [
    "sl_unique_indexes_list = sorted(list(sl_unique_indexes))\n",
    "print(sl_unique_indexes_list)"
   ]
  },
  {
   "cell_type": "code",
   "execution_count": null,
   "id": "resident-radius",
   "metadata": {},
   "outputs": [],
   "source": [
    "pop_test_1_sl = \\\n",
    "pop_test_1.iloc[sl_unique_indexes_list, :]\n",
    "\n",
    "pop_test_1_sl.iloc[:2,:]"
   ]
  },
  {
   "cell_type": "code",
   "execution_count": null,
   "id": "embedded-obligation",
   "metadata": {},
   "outputs": [],
   "source": [
    "pop_test_2_sl = pop_test_1_sl.copy()"
   ]
  },
  {
   "cell_type": "code",
   "execution_count": null,
   "id": "organizational-error",
   "metadata": {},
   "outputs": [],
   "source": [
    "# sl: specific letters\n",
    "def check_rows_for_sl(row):\n",
    "    if row.str.contains(\"..\").any():\n",
    "        value = 1\n",
    "    else:\n",
    "        value = 0\n",
    "    return value\n",
    "\n",
    "pop_test_2_sl[\"Check sl\"] = pop_test_2_sl.apply(check_rows_for_sl, axis=1)\n",
    "\n",
    "print(pop_test_2_sl.shape)\n",
    "pop_test_2_sl[\"Check sl\"]\n"
   ]
  },
  {
   "cell_type": "code",
   "execution_count": null,
   "id": "arranged-choice",
   "metadata": {},
   "outputs": [],
   "source": [
    "pop_test_2_sl.iloc[1:3,:6]"
   ]
  },
  {
   "cell_type": "code",
   "execution_count": null,
   "id": "informal-butterfly",
   "metadata": {},
   "outputs": [],
   "source": [
    "pop_test_2_sl_index = sorted(pop_test_2_sl.index.tolist())\n",
    "print(pop_test_2_sl_index)"
   ]
  },
  {
   "cell_type": "markdown",
   "id": "sustainable-pepper",
   "metadata": {},
   "source": [
    "#### With numpy"
   ]
  },
  {
   "cell_type": "code",
   "execution_count": null,
   "id": "front-celebration",
   "metadata": {},
   "outputs": [],
   "source": [
    "ab = np.where(pop_test_4_sl == \"..\", 1, 0)\n",
    "np.unique(ab, return_counts=True)"
   ]
  },
  {
   "cell_type": "code",
   "execution_count": null,
   "id": "alternate-directory",
   "metadata": {},
   "outputs": [],
   "source": [
    "# Get index value\n",
    "bool_array = (pop_test_4_sl == \"..\")\n",
    "result = np.where(bool_array)\n",
    "result = result[0].flatten()"
   ]
  },
  {
   "cell_type": "code",
   "execution_count": null,
   "id": "cutting-albany",
   "metadata": {},
   "outputs": [],
   "source": [
    "result_unique = np.unique(result)\n",
    "print(result_unique)"
   ]
  },
  {
   "cell_type": "code",
   "execution_count": null,
   "id": "narrative-collector",
   "metadata": {},
   "outputs": [],
   "source": [
    "sl_rows_np = pop_test_4_sl.iloc[result_unique, :]\n",
    "print(sl_rows_np.iloc[4:6, :7])"
   ]
  },
  {
   "cell_type": "markdown",
   "id": "fuzzy-century",
   "metadata": {},
   "source": [
    "#### Comparison of results\n",
    "<p>\n",
    "Are the different methods to find the rows with the special letter\n",
    "\"..\" producing the same results.\n",
    "</p>"
   ]
  },
  {
   "cell_type": "code",
   "execution_count": null,
   "id": "hindu-arrangement",
   "metadata": {},
   "outputs": [],
   "source": [
    "print(special_letters_1.index.tolist())\n",
    "print(sl_unique_indexes_list)\n",
    "print(pop_test_2_sl_index)\n",
    "print(result_unique)"
   ]
  },
  {
   "cell_type": "markdown",
   "id": "characteristic-worth",
   "metadata": {},
   "source": [
    "### Replacing '..'"
   ]
  },
  {
   "cell_type": "code",
   "execution_count": null,
   "id": "identified-spanking",
   "metadata": {},
   "outputs": [],
   "source": [
    "pop.iloc[special_letters_1_index, :] = \\\n",
    "pop.iloc[special_letters_1_index, :].replace(to_replace='..', value=0)"
   ]
  },
  {
   "cell_type": "code",
   "execution_count": null,
   "id": "august-diamond",
   "metadata": {},
   "outputs": [],
   "source": [
    "pop[pop.eq('..').any(1)]"
   ]
  },
  {
   "cell_type": "markdown",
   "id": "interim-focus",
   "metadata": {},
   "source": [
    "### Converting object to float"
   ]
  },
  {
   "cell_type": "code",
   "execution_count": null,
   "id": "urban-friend",
   "metadata": {},
   "outputs": [],
   "source": [
    "# Select only numeric cols\n",
    "pop_numeric = pop.iloc[:,4:]\n",
    "# pop_numeric.info()"
   ]
  },
  {
   "cell_type": "code",
   "execution_count": null,
   "id": "maritime-happiness",
   "metadata": {},
   "outputs": [],
   "source": [
    "# Making an data frame with the only str col needed\n",
    "pop_floats = pd.DataFrame(data=pop['Country Name'])\n",
    "\n",
    "# add converted cols to df\n",
    "for col in pop_numeric.columns:\n",
    "    # print(pop_1a[col])\n",
    "    pop_floats[col]=pop_numeric[col].astype('float')"
   ]
  },
  {
   "cell_type": "code",
   "execution_count": null,
   "id": "moderate-heating",
   "metadata": {},
   "outputs": [],
   "source": [
    "print(type(pop_floats.dtypes))\n",
    "print(pop_floats.dtypes.tolist()[:10])"
   ]
  },
  {
   "cell_type": "code",
   "execution_count": null,
   "id": "seventh-chosen",
   "metadata": {},
   "outputs": [],
   "source": [
    "pop_floats.iloc[:2, 0:4]"
   ]
  },
  {
   "cell_type": "markdown",
   "id": "competitive-vocabulary",
   "metadata": {},
   "source": [
    "#### Finding the max value over all years"
   ]
  },
  {
   "cell_type": "code",
   "execution_count": null,
   "id": "fantastic-currency",
   "metadata": {},
   "outputs": [],
   "source": [
    "pop_floats.iloc[:, 1:].max().sort_values(ascending=False)"
   ]
  },
  {
   "cell_type": "markdown",
   "id": "marine-drinking",
   "metadata": {},
   "source": [
    "#### Some visualizations"
   ]
  },
  {
   "cell_type": "code",
   "execution_count": null,
   "id": "narrative-conviction",
   "metadata": {},
   "outputs": [],
   "source": [
    "sns.set(rc={'figure.figsize':(15,4)})\n",
    "sns.set_style('darkgrid', {'grid.color':'red', 'grid.linestyle':\":\"})\n",
    "\n",
    "g = sns.barplot(x='Country Name', y='1960', data=pop_floats.iloc[100:120, :2], edgecolor='black',\n",
    "            linewidth=2)\n",
    "plt.xticks(rotation=90)\n",
    "\n",
    "\n",
    "plt.show()"
   ]
  },
  {
   "cell_type": "markdown",
   "id": "japanese-paragraph",
   "metadata": {},
   "source": [
    "<p>\n",
    "Above is written in scientific E-Notation:<br>\n",
    "4e8.<br>\n",
    "Alternatively a log scale is used below.\n",
    "</p>"
   ]
  },
  {
   "cell_type": "code",
   "execution_count": null,
   "id": "tender-dialogue",
   "metadata": {
    "tags": []
   },
   "outputs": [],
   "source": [
    "g = sns.barplot(x='Country Name', y='1960', data=pop_floats.iloc[100:120, :2], edgecolor='black',\n",
    "            linewidth=2)\n",
    "\n",
    "plt.xticks(rotation=90)\n",
    "g.set_yscale('log')\n",
    "\n",
    "plt.show()\n",
    "\n"
   ]
  },
  {
   "cell_type": "code",
   "execution_count": null,
   "id": "mysterious-climb",
   "metadata": {},
   "outputs": [],
   "source": [
    "df_1960_1961 = pop_floats.iloc[100:120, :4]\n",
    "df_1960_1961.info()"
   ]
  },
  {
   "cell_type": "markdown",
   "id": "entertaining-focus",
   "metadata": {},
   "source": [
    "#### Grouped population barplots"
   ]
  },
  {
   "cell_type": "code",
   "execution_count": null,
   "id": "single-pattern",
   "metadata": {},
   "outputs": [],
   "source": [
    "pop_floats.iloc[100:120, :4].plot.bar(x='Country Name', \n",
    "                                 color=['red', 'yellow', 'cyan'],\n",
    "                                 edgecolor='black',\n",
    "                                 title=\"Grouped pop barplot 1960, 1961, 1962\")\n",
    "plt.show()"
   ]
  },
  {
   "cell_type": "code",
   "execution_count": null,
   "id": "comparative-tower",
   "metadata": {},
   "outputs": [],
   "source": [
    "sns.barplot(x=pop_floats.loc[70:90, 'Country Name'], y=pop_floats.iloc[:, 45], \n",
    "            palette=\"flare\", edgecolor='black')\n",
    "plt.xticks(rotation='90')\n",
    "plt.show()"
   ]
  },
  {
   "cell_type": "code",
   "execution_count": null,
   "id": "applicable-franchise",
   "metadata": {},
   "outputs": [],
   "source": [
    "\n",
    "labels = df_1960_1961['Country Name']\n",
    "Year_1960 = df_1960_1961['1960']\n",
    "Year_1961 = df_1960_1961['1961']\n",
    "\n",
    "x = np.arange(len(labels))  # the label locations\n",
    "width = 0.35  #Year_1960 the width of the bars\n",
    "\n",
    "fig, ax = plt.subplots(figsize=(10,5))\n",
    "rects1 = ax.bar(x - width/2, Year_1960, width, label='Year_1960', color='yellow', edgecolor='red')\n",
    "rects2 = ax.bar(x + width/2, Year_1961, width, label='Year_1961', color='black', edgecolor='red')\n",
    "\n",
    "# Add some text for labels, title and custom x-axis tick labels, etc.\n",
    "ax.set_ylabel('Population ')\n",
    "ax.set_title('Population of some countries 1960 and 1961')\n",
    "ax.set_xticks(ticks=x)\n",
    "ax.set_xticklabels(labels, rotation=90)\n",
    "ax.legend()\n",
    "ax.set_yscale('log')\n",
    "\n",
    "\n",
    "\n",
    "# ax.bar_label(rects1, padding=3)\n",
    "# ax.bar_label(rects2, padding=3)\n",
    "\n",
    "fig.tight_layout()\n",
    "\n",
    "plt.show()"
   ]
  },
  {
   "cell_type": "code",
   "execution_count": null,
   "id": "parallel-share",
   "metadata": {},
   "outputs": [],
   "source": [
    "pop_floats.shape"
   ]
  },
  {
   "cell_type": "code",
   "execution_count": null,
   "id": "logical-english",
   "metadata": {},
   "outputs": [],
   "source": [
    "pop_floats_reindexed = pop_floats.set_index(keys=['Country Name'])"
   ]
  },
  {
   "cell_type": "code",
   "execution_count": null,
   "id": "speaking-republican",
   "metadata": {},
   "outputs": [],
   "source": [
    "ax = sns.lineplot(data=pop_floats_reindexed.iloc[20:25, [0,30,40,50,60]])\n",
    "ax.set_title('Selected countries over decades')\n",
    "plt.xticks(rotation=90)\n",
    "plt.show()"
   ]
  },
  {
   "cell_type": "code",
   "execution_count": null,
   "id": "alternate-caution",
   "metadata": {},
   "outputs": [],
   "source": [
    "pop_floats_reindexed.plot.line(legend=False, title='Pop over years')\n",
    "plt.xticks(rotation=90)\n",
    "plt.show()"
   ]
  },
  {
   "cell_type": "markdown",
   "id": "sticky-salem",
   "metadata": {},
   "source": [
    "#### Time series\n",
    "\n",
    "<p>by transposing the data frame.</p>"
   ]
  },
  {
   "cell_type": "code",
   "execution_count": null,
   "id": "varied-delivery",
   "metadata": {},
   "outputs": [],
   "source": [
    "# Storing the col and idx name is helpful later on\n",
    "year_col_names = pop_floats.columns[1:]\n",
    "country_name = pop_floats['Country Name']\n",
    "\n",
    "print(len(country_name))"
   ]
  },
  {
   "cell_type": "code",
   "execution_count": null,
   "id": "latter-honey",
   "metadata": {},
   "outputs": [],
   "source": [
    "# Now transposing\n",
    "pop_floats_transposed = pop_floats.transpose()"
   ]
  },
  {
   "cell_type": "code",
   "execution_count": null,
   "id": "introductory-clock",
   "metadata": {},
   "outputs": [],
   "source": [
    "# Setting the col names\n",
    "pop_floats_transposed.columns = country_name"
   ]
  },
  {
   "cell_type": "code",
   "execution_count": null,
   "id": "tested-picnic",
   "metadata": {},
   "outputs": [],
   "source": [
    "pop_floats_transposed.index[:2]"
   ]
  },
  {
   "cell_type": "code",
   "execution_count": null,
   "id": "binding-spray",
   "metadata": {},
   "outputs": [],
   "source": [
    "pop_floats_transposed = pop_floats_transposed.drop(labels='Country Name', axis=0)"
   ]
  },
  {
   "cell_type": "code",
   "execution_count": null,
   "id": "amino-recall",
   "metadata": {},
   "outputs": [],
   "source": [
    "pop_floats_transposed.head(2)"
   ]
  },
  {
   "cell_type": "code",
   "execution_count": null,
   "id": "indoor-vietnamese",
   "metadata": {},
   "outputs": [],
   "source": [
    "pop_floats_transposed.index[:5]"
   ]
  },
  {
   "cell_type": "code",
   "execution_count": null,
   "id": "stylish-skirt",
   "metadata": {},
   "outputs": [],
   "source": [
    "pop_floats_transposed.info()"
   ]
  },
  {
   "cell_type": "markdown",
   "id": "rural-photographer",
   "metadata": {},
   "source": [
    "<p>Transposing destroys the numeric data types.</p>"
   ]
  },
  {
   "cell_type": "code",
   "execution_count": null,
   "id": "durable-service",
   "metadata": {},
   "outputs": [],
   "source": [
    "pop_floats_transposed.dtypes[:5]"
   ]
  },
  {
   "cell_type": "markdown",
   "id": "italic-hammer",
   "metadata": {},
   "source": [
    "#### Revising the dtypes"
   ]
  },
  {
   "cell_type": "code",
   "execution_count": null,
   "id": "solved-proceeding",
   "metadata": {},
   "outputs": [],
   "source": [
    "pop_floats_transposed_2 = pop_floats_transposed.infer_objects()\n",
    "pop_floats_transposed_2.dtypes[:5]"
   ]
  },
  {
   "cell_type": "markdown",
   "id": "regulated-blake",
   "metadata": {},
   "source": [
    "#### Countries with maximal populations"
   ]
  },
  {
   "cell_type": "code",
   "execution_count": null,
   "id": "black-camera",
   "metadata": {},
   "outputs": [],
   "source": [
    "max_countries = pop_floats_transposed_2.max().sort_values(ascending=False)\n",
    "max_countries"
   ]
  },
  {
   "cell_type": "markdown",
   "id": "standard-joining",
   "metadata": {},
   "source": [
    "<p>There are some variables, which are not countries.<br>\n",
    "In case of a comprehensive analysis this should be perhaps excluded.</p>"
   ]
  },
  {
   "cell_type": "markdown",
   "id": "focal-inside",
   "metadata": {},
   "source": [
    "#### Some visualizations\n"
   ]
  },
  {
   "cell_type": "code",
   "execution_count": null,
   "id": "conditional-hungarian",
   "metadata": {},
   "outputs": [],
   "source": [
    "max_countries[:10].plot.bar(color=['r', 'g'], edgecolor='black', linewidth=3)\n",
    "plt.show()"
   ]
  },
  {
   "cell_type": "markdown",
   "id": "thirty-academy",
   "metadata": {},
   "source": [
    "### Time series plots"
   ]
  },
  {
   "cell_type": "code",
   "execution_count": null,
   "id": "centered-princeton",
   "metadata": {},
   "outputs": [],
   "source": [
    "sns.set_palette('bright')\n",
    "sns.set_style('darkgrid')\n",
    "pop_floats_transposed_2.plot.line(legend=False, title=\"Time series for all countries\")\n",
    "plt.show()"
   ]
  },
  {
   "cell_type": "markdown",
   "id": "municipal-thirty",
   "metadata": {},
   "source": [
    "#### Getting as subset:\n",
    "<p>based on the condition, where pop in 2000 is lower than.</p>"
   ]
  },
  {
   "cell_type": "code",
   "execution_count": null,
   "id": "ongoing-injury",
   "metadata": {
    "tags": []
   },
   "outputs": [],
   "source": [
    "smaller_1000000 = pop_floats_transposed_2.loc[:, pop_floats_transposed.loc['2000', :] < 1000000.0]\n",
    "print(smaller_1000000.shape)\n",
    "# print(smaller_1000000.info())"
   ]
  },
  {
   "cell_type": "code",
   "execution_count": null,
   "id": "textile-briefs",
   "metadata": {},
   "outputs": [],
   "source": [
    "smaller_1000000.plot.line(legend=False)\n",
    "plt.show()"
   ]
  },
  {
   "cell_type": "code",
   "execution_count": null,
   "id": "frank-trainer",
   "metadata": {},
   "outputs": [],
   "source": [
    "smaller_between_1 = \\\n",
    "pop_floats_transposed_2.loc[:, (pop_floats_transposed.loc['2000', :] > 500000.0) \n",
    "                          & (pop_floats_transposed.loc['2000', :] < 1000000.0)]\n",
    "print(smaller_between_1.shape)\n",
    "# print(smaller_between_1.info())"
   ]
  },
  {
   "cell_type": "code",
   "execution_count": null,
   "id": "adverse-signal",
   "metadata": {},
   "outputs": [],
   "source": [
    "sns.set_palette('muted')\n",
    "smaller_between_1.plot.line(legend=True, colormap='Accent')\n",
    "plt.legend(bbox_to_anchor=(1.05, 1), loc='upper left', borderaxespad=0)\n",
    "plt.show()"
   ]
  },
  {
   "cell_type": "code",
   "execution_count": null,
   "id": "alien-organ",
   "metadata": {},
   "outputs": [],
   "source": [
    "\n",
    "\n",
    "smaller_between_1.plot.line(legend=True, colormap='Accent')\n",
    "plt.legend(bbox_to_anchor=(1.05, 1), loc='upper left', borderaxespad=0)\n",
    "plt.show()"
   ]
  },
  {
   "cell_type": "code",
   "execution_count": null,
   "id": "heated-point",
   "metadata": {},
   "outputs": [],
   "source": [
    "smaller_between_1.dtypes"
   ]
  },
  {
   "cell_type": "markdown",
   "id": "usual-ability",
   "metadata": {},
   "source": [
    "#### Place lengend and set xticks"
   ]
  },
  {
   "cell_type": "code",
   "execution_count": null,
   "id": "uniform-coalition",
   "metadata": {},
   "outputs": [],
   "source": [
    "sns.lineplot(data=smaller_between_1)\n",
    "plt.xticks(ticks=[1,10,20, 30, 40, 50, 60, 70, 80, 90], rotation=90)\n",
    "plt.legend(bbox_to_anchor=(1.05, 1), loc='upper left', borderaxespad=0)\n",
    "plt.show()"
   ]
  },
  {
   "cell_type": "markdown",
   "id": "weighted-funeral",
   "metadata": {},
   "source": [
    "#### Remove axes"
   ]
  },
  {
   "cell_type": "code",
   "execution_count": null,
   "id": "received-basket",
   "metadata": {},
   "outputs": [],
   "source": [
    "sns.set_style('white')\n",
    "sns.lineplot(data=smaller_between_1)\n",
    "plt.xticks(ticks=[1,10,20, 30, 40, 50, 60, 70, 80, 90], rotation=90)\n",
    "plt.legend(bbox_to_anchor=(1.05, 1), loc='upper left', borderaxespad=0)\n",
    "sns.despine(left=True, bottom=True)\n",
    "plt.show()"
   ]
  },
  {
   "cell_type": "markdown",
   "id": "coupled-error",
   "metadata": {},
   "source": [
    "#### Experimenting with different styles"
   ]
  },
  {
   "cell_type": "code",
   "execution_count": null,
   "id": "amber-management",
   "metadata": {},
   "outputs": [],
   "source": [
    "sns.set(rc={'figure.figsize':(8,3)})\n",
    "for style in ['white','dark','whitegrid','darkgrid','ticks']:\n",
    "    sns.set_style(style)\n",
    "    \n",
    "    sns.lineplot(data=smaller_between_1)\n",
    "    plt.xticks(ticks=[1,10,20, 30, 40, 50, 60, 70, 80, 90], rotation=90)\n",
    "    plt.legend(bbox_to_anchor=(1.05, 1), loc='upper left', borderaxespad=0)\n",
    "    plt.show()\n",
    "    "
   ]
  },
  {
   "cell_type": "markdown",
   "id": "indoor-mortgage",
   "metadata": {},
   "source": [
    "### US housing data"
   ]
  },
  {
   "cell_type": "code",
   "execution_count": null,
   "id": "incomplete-communist",
   "metadata": {
    "scrolled": true,
    "tags": []
   },
   "outputs": [],
   "source": [
    "USHousing = pd.read_csv(\"csv/USHousing.csv\")"
   ]
  },
  {
   "cell_type": "code",
   "execution_count": null,
   "id": "palestinian-turkish",
   "metadata": {},
   "outputs": [],
   "source": [
    "USHousing.shape"
   ]
  },
  {
   "cell_type": "code",
   "execution_count": null,
   "id": "dressed-basic",
   "metadata": {},
   "outputs": [],
   "source": [
    "USHousing.info()"
   ]
  },
  {
   "cell_type": "code",
   "execution_count": null,
   "id": "mexican-break",
   "metadata": {},
   "outputs": [],
   "source": [
    "USHousing.head(2)"
   ]
  },
  {
   "cell_type": "code",
   "execution_count": null,
   "id": "liquid-antique",
   "metadata": {},
   "outputs": [],
   "source": [
    "USHousing.isnull().sum().sum()\n",
    "USHousing = USHousing.dropna(axis=0)\n",
    "\n",
    "print(USHousing.shape)"
   ]
  },
  {
   "cell_type": "markdown",
   "id": "searching-truth",
   "metadata": {},
   "source": [
    "#### Comparing seaborn styles\n",
    "<p> Default seaborn style.</p>"
   ]
  },
  {
   "cell_type": "code",
   "execution_count": null,
   "id": "compatible-exhibition",
   "metadata": {},
   "outputs": [],
   "source": [
    "sns.set()\n",
    "USHousing['fmr_4'].hist(edgecolor='black', linewidth=2, color='darkmagenta')\n",
    "plt.show()"
   ]
  },
  {
   "cell_type": "code",
   "execution_count": null,
   "id": "corresponding-distance",
   "metadata": {},
   "outputs": [],
   "source": [
    "sns.set_style('whitegrid')\n",
    "USHousing['fmr_4'].hist(edgecolor='black', linewidth=2, color='lavenderblush')\n",
    "plt.show()\n"
   ]
  },
  {
   "cell_type": "code",
   "execution_count": null,
   "id": "associate-blackberry",
   "metadata": {},
   "outputs": [],
   "source": [
    "sns.set_style('dark')\n",
    "USHousing['fmr_4'].hist(edgecolor='black', linewidth=2, color='indigo')\n",
    "plt.show()"
   ]
  },
  {
   "cell_type": "markdown",
   "id": "certified-philosophy",
   "metadata": {},
   "source": [
    "#### Removing spines and setting kws arguments\n",
    "<p>for modifying marker elements.</p>"
   ]
  },
  {
   "cell_type": "code",
   "execution_count": null,
   "id": "protected-dynamics",
   "metadata": {},
   "outputs": [],
   "source": [
    "sns.set_style('white')\n",
    "sns.lmplot(data=USHousing, x='pop2010', y='fmr_1', \n",
    "           scatter_kws={'edgecolor':'firebrick', 'color':'gold', 'alpha':0.8},\n",
    "           line_kws={'color':'red', 'linewidth':4, 'linestyle':':'})\n",
    "sns.despine(top=True, right=True)\n",
    "plt.show()\n"
   ]
  },
  {
   "cell_type": "markdown",
   "id": "nearby-village",
   "metadata": {},
   "source": [
    "#### Setting colors manually"
   ]
  },
  {
   "cell_type": "code",
   "execution_count": null,
   "id": "accepting-opening",
   "metadata": {},
   "outputs": [],
   "source": [
    "sns.set(color_codes=True, style='dark')\n",
    "sns.histplot(USHousing['fmr_2'], color='lawngreen')\n",
    "plt.show()"
   ]
  },
  {
   "cell_type": "markdown",
   "id": "prime-business",
   "metadata": {},
   "source": [
    "#### Experimenting with palettes"
   ]
  },
  {
   "cell_type": "code",
   "execution_count": null,
   "id": "korean-rapid",
   "metadata": {},
   "outputs": [],
   "source": [
    "housing_fmr = USHousing[['fmr_1', 'fmr_2', 'fmr_3', 'fmr_4']]"
   ]
  },
  {
   "cell_type": "code",
   "execution_count": null,
   "id": "blank-spring",
   "metadata": {},
   "outputs": [],
   "source": [
    "housing_fmr.info()"
   ]
  },
  {
   "cell_type": "code",
   "execution_count": null,
   "id": "tamil-distinction",
   "metadata": {},
   "outputs": [],
   "source": [
    "sns.lineplot(data=housing_fmr[['fmr_1', 'fmr_2', 'fmr_3', 'fmr_4']])\n",
    "plt.show()"
   ]
  },
  {
   "cell_type": "code",
   "execution_count": null,
   "id": "loaded-charlotte",
   "metadata": {},
   "outputs": [],
   "source": [
    "for palette in sns.palettes.SEABORN_PALETTES:\n",
    "    sns.set_palette(palette)\n",
    "    sns.lineplot(data=housing_fmr[['fmr_1', 'fmr_2', 'fmr_3', 'fmr_4']])\n",
    "    plt.show()"
   ]
  },
  {
   "cell_type": "markdown",
   "id": "sorted-interview",
   "metadata": {},
   "source": [
    "#### Using axes for customization"
   ]
  },
  {
   "cell_type": "code",
   "execution_count": null,
   "id": "bridal-police",
   "metadata": {},
   "outputs": [],
   "source": [
    "fig, ax = plt.subplots()\n",
    "\n",
    "sns.histplot(housing_fmr['fmr_1'], ax=ax, color='firebrick', edgecolor='black', linewidth=2, kde=True,\n",
    "             line_kws={'color':'green', 'linewidth':5, 'linestyle':':'})\n",
    "\n",
    "ax.set(xlabel=\"Bedrooms: 1, Market rent: fair\")\n",
    "\n",
    "plt.show()\n",
    " \n",
    "# Maybe 'color':'red' needs a higher pandas version"
   ]
  },
  {
   "cell_type": "code",
   "execution_count": null,
   "id": "unable-tobago",
   "metadata": {},
   "outputs": [],
   "source": [
    "fig, ax = plt.subplots(figsize=(8,4))\n",
    "\n",
    "sns.histplot(housing_fmr['fmr_1'], kde=True, color='gold', edgecolor='black')\n",
    "\n",
    "ax.set(xlabel=\"Bedrooms: 1, Market rent: fair\", \n",
    "       xlim=(300, 900), ylim=(100, 600), \n",
    "       title=\"USA housing market for fmr_1\")\n",
    "\n",
    "plt.show()"
   ]
  },
  {
   "cell_type": "code",
   "execution_count": null,
   "id": "mathematical-strip",
   "metadata": {},
   "outputs": [],
   "source": [
    "housing_fmr['fmr_1'].describe()"
   ]
  },
  {
   "cell_type": "code",
   "execution_count": null,
   "id": "initial-removal",
   "metadata": {},
   "outputs": [],
   "source": [
    "housing_fmr_1_median = housing_fmr['fmr_1'].median()\n",
    "housing_fmr_1_mean = housing_fmr['fmr_1'].mean()\n",
    "housing_fmr_1_max = housing_fmr['fmr_1'].max()\n",
    "housing_fmr_1_min = housing_fmr['fmr_1'].min()"
   ]
  },
  {
   "cell_type": "markdown",
   "id": "median-edmonton",
   "metadata": {},
   "source": [
    "#### Adding vertical lines of aggregates\n"
   ]
  },
  {
   "cell_type": "code",
   "execution_count": null,
   "id": "organized-ceramic",
   "metadata": {},
   "outputs": [],
   "source": [
    "fig, ax = plt.subplots(figsize=(8,4))\n",
    "\n",
    "sns.histplot(housing_fmr['fmr_1'], kde=True, color='gold', edgecolor='black')\n",
    "\n",
    "ax.set(xlabel=\"Bedrooms: 1, Market rent: fair\",  \n",
    "       title=\"USA housing market for fmr_1\")\n",
    "\n",
    "ax.axvline(x=housing_fmr_1_median, color='r', label='Median', linestyle='--', linewidth=4)\n",
    "ax.axvline(x=housing_fmr_1_mean, color='b', label='Mean', linestyle='--', linewidth=4)\n",
    "ax.axvline(x=housing_fmr_1_max, color='g', label='Max', linestyle=':', linewidth=4)\n",
    "ax.axvline(x=housing_fmr_1_min, color='black', label='Min', linestyle=':', linewidth=4)\n",
    "\n",
    "ax.legend()\n",
    "\n",
    "plt.show()"
   ]
  },
  {
   "cell_type": "code",
   "execution_count": null,
   "id": "extended-camera",
   "metadata": {},
   "outputs": [],
   "source": [
    "fig, (ax1, ax2) = plt.subplots(nrows=1, ncols=2, sharey=True, figsize=(20,5))\n",
    "\n",
    "sns.histplot(housing_fmr['fmr_3'], kde=True, color='crimson', edgecolor='black', linewidth=1, ax=ax1 )\n",
    "ax1.axvline(housing_fmr['fmr_3'].mean(), label='Mean', color='black', linewidth=3, linestyle=':')\n",
    "ax1.legend()\n",
    "ax1.set(title='fmr_3', xlabel='Rooms: fmr_4')\n",
    "\n",
    "sns.histplot(housing_fmr['fmr_4'], kde=True, color='cyan', edgecolor='black', linewidth=1, ax=ax2 )\n",
    "ax2.axvline(housing_fmr['fmr_4'].mean(), label='Mean', color='black', linewidth=3, linestyle=\":\")\n",
    "ax2.legend()\n",
    "ax2.set(title='fmr_3', xlabel='Rooms: fmr_4')\n",
    "\n",
    "plt.show()"
   ]
  },
  {
   "cell_type": "markdown",
   "id": "crucial-bishop",
   "metadata": {},
   "source": [
    "#### Categorical plots"
   ]
  },
  {
   "cell_type": "code",
   "execution_count": null,
   "id": "accurate-impossible",
   "metadata": {},
   "outputs": [],
   "source": [
    "USHousing.info()"
   ]
  },
  {
   "cell_type": "code",
   "execution_count": null,
   "id": "paperback-fountain",
   "metadata": {},
   "outputs": [],
   "source": [
    "USHousing['metro'].value_counts()"
   ]
  },
  {
   "cell_type": "code",
   "execution_count": null,
   "id": "adjacent-reducing",
   "metadata": {},
   "outputs": [],
   "source": [
    "gb_area = USHousing.groupby('metro')['pop2010'].sum()\n",
    "\n",
    "print(type(gb_area))\n",
    "print(len(gb_area))\n",
    "\n",
    "gb_area"
   ]
  },
  {
   "cell_type": "code",
   "execution_count": null,
   "id": "likely-glory",
   "metadata": {},
   "outputs": [],
   "source": [
    "print(gb_area)\n",
    "print(\"------------------------------------\")\n",
    "gb_area.sort_values(ascending=False).plot.bar(color=['cyan', 'crimson'], edgecolor='black', linewidth=5)\n",
    "plt.show()"
   ]
  },
  {
   "cell_type": "code",
   "execution_count": null,
   "id": "adjacent-fiber",
   "metadata": {},
   "outputs": [],
   "source": [
    "fig, (ax1, ax2) = plt.subplots(nrows=2, ncols=1, sharey=True, figsize=(5,10))\n",
    "\n",
    "sns.stripplot(data=USHousing, x='metro', y='pop2010', \n",
    "              edgecolor='black', linewidth=1,\n",
    "              jitter=True, ax=ax1)\n",
    "\n",
    "sns.boxplot(data=USHousing, x='metro', y='pop2010',\n",
    "            linewidth=1, ax=ax2, orient='v')\n",
    "\n",
    "plt.show()"
   ]
  },
  {
   "cell_type": "code",
   "execution_count": null,
   "id": "interested-memory",
   "metadata": {},
   "outputs": [],
   "source": [
    "# Is a categorical variable\n",
    "USHousing['fmr_type'].value_counts()"
   ]
  },
  {
   "cell_type": "code",
   "execution_count": null,
   "id": "stupid-olive",
   "metadata": {},
   "outputs": [],
   "source": [
    "USHousing['fmr_type'].value_counts().plot.bar(color=['g', 'r'], edgecolor='black')\n",
    "plt.show()"
   ]
  },
  {
   "cell_type": "code",
   "execution_count": null,
   "id": "atomic-overhead",
   "metadata": {},
   "outputs": [],
   "source": [
    "fig, ax = plt.subplots(nrows=2, ncols=2, figsize=(12,8))\n",
    "plt.suptitle('Dashboard USHousing')\n",
    "\n",
    "sns.countplot(data=USHousing, y='metro', hue='fmr_type', \n",
    "              edgecolor='black', palette='Dark2',\n",
    "              ax=ax[0,0] )\n",
    "ax1.set_title('Metro by fmr_type')\n",
    "\n",
    "sns.pointplot(data=USHousing, y='fmr_type', x='metro', ax=ax[0,1], capsize=0.4, color='black')\n",
    "ax2.set_title('Relationship of Metro and fmr_type')\n",
    "\n",
    "sns.barplot(data=USHousing, x='metro', y='fmr_type', \n",
    "              edgecolor='black', palette='Dark2',\n",
    "              ax=ax[1,0] )\n",
    "\n",
    "ax[1,1].set_axis_off()\n",
    "plt.show()"
   ]
  },
  {
   "cell_type": "code",
   "execution_count": null,
   "id": "moving-wallace",
   "metadata": {},
   "outputs": [],
   "source": [
    "USHousing.info()"
   ]
  },
  {
   "cell_type": "code",
   "execution_count": null,
   "id": "separate-flashing",
   "metadata": {},
   "outputs": [],
   "source": [
    "sns.set_style('white')\n",
    "sns.lmplot(data=USHousing, x='pop2010', y='fmr_1', \n",
    "           scatter_kws={'edgecolor':'firebrick', 'color':'gold', 'alpha':0.8},\n",
    "           line_kws={'color':'red', 'linewidth':4, 'linestyle':':'})\n",
    "sns.despine(top=True, right=True)\n",
    "plt.show()"
   ]
  },
  {
   "cell_type": "code",
   "execution_count": null,
   "id": "worst-interval",
   "metadata": {},
   "outputs": [],
   "source": [
    "sns.set_style('whitegrid')\n",
    "\n",
    "fig, ax = plt.subplots(nrows=2, ncols=2, figsize=(10,10))\n",
    "\n",
    "sns.regplot(data=USHousing, \n",
    "            x='fmr_0', y='fmr_4', \n",
    "            ax=ax[0,0],\n",
    "            scatter_kws={'edgecolor':'black', 'color':'cyan'},\n",
    "            line_kws={'color':'firebrick', 'linewidth':3.989, 'linestyle':'--' })\n",
    "ax[0,0].set_title('Replot fmr_0 & fmr_4')\n",
    "\n",
    "\n",
    "sns.residplot(data=USHousing,\n",
    "              x='fmr_0', y='fmr_4', \n",
    "              ax=ax[0,1],\n",
    "              scatter_kws={'edgecolor':'black', 'color':'magenta'},\n",
    "              line_kws={'color':'gold', 'linewidth':3})\n",
    "ax[0,1].set_title('Residual plot')\n",
    "\n",
    "sns.regplot(data=USHousing, \n",
    "            x='fmr_0', y='fmr_4', \n",
    "            x_bins=30,\n",
    "            ax=ax[1,0],\n",
    "            scatter_kws={'edgecolor':'black', 'color':'gold'},\n",
    "            line_kws={'color':'firebrick', 'linewidth':2, 'linestyle':':' }) # Does not work?\n",
    "ax[1,0].set_title('Regplot binning')\n",
    "\n",
    "ax[1,1].set_axis_off()\n",
    "\n",
    "\n",
    "plt.show()"
   ]
  },
  {
   "cell_type": "markdown",
   "id": "determined-sewing",
   "metadata": {},
   "source": [
    "#### Matrixplots & heatmaps"
   ]
  },
  {
   "cell_type": "code",
   "execution_count": null,
   "id": "level-promise",
   "metadata": {},
   "outputs": [],
   "source": [
    "# USHousing.info()"
   ]
  },
  {
   "cell_type": "code",
   "execution_count": null,
   "id": "addressed-nature",
   "metadata": {},
   "outputs": [],
   "source": [
    "crosstab_1 = pd.crosstab(USHousing['state'], USHousing['metro'])\n",
    "crosstab_1.head(3)\n",
    "print(type(crosstab_1))"
   ]
  },
  {
   "cell_type": "code",
   "execution_count": null,
   "id": "sudden-hearts",
   "metadata": {},
   "outputs": [],
   "source": [
    "fig = plt.figure(figsize=(10,4))\n",
    "\n",
    "fig.add_subplot(111)\n",
    "sns.heatmap(crosstab_1, cmap='OrRd_r', linewidth=0.1)\n",
    "plt.yticks(rotation=50)\n",
    "\n",
    "plt.show()"
   ]
  },
  {
   "cell_type": "code",
   "execution_count": null,
   "id": "electoral-muscle",
   "metadata": {},
   "outputs": [],
   "source": [
    "corr_cols = USHousing[['fmr_2', 'pop2010']]\n",
    "corr_ush = corr_cols.corr()\n",
    "corr_ush.info()"
   ]
  },
  {
   "cell_type": "code",
   "execution_count": null,
   "id": "imperial-sewing",
   "metadata": {},
   "outputs": [],
   "source": [
    "fig = plt.figure()\n",
    "fig.add_subplot(111)\n",
    "sns.heatmap(corr_ush)\n",
    "\n",
    "plt.show()"
   ]
  },
  {
   "cell_type": "code",
   "execution_count": null,
   "id": "exact-bridal",
   "metadata": {},
   "outputs": [],
   "source": [
    "corr_cols_number = USHousing.select_dtypes(include=np.number)\n",
    "corr_us_2 = corr_cols_number.corr()\n",
    "sns.heatmap(corr_us_2, cmap='gist_rainbow_r')\n",
    "plt.show()"
   ]
  },
  {
   "cell_type": "code",
   "execution_count": null,
   "id": "focal-treaty",
   "metadata": {},
   "outputs": [],
   "source": [
    "india=pd.read_csv(\"csv/cities_india_df.csv\")\n",
    "india.info()"
   ]
  },
  {
   "cell_type": "code",
   "execution_count": null,
   "id": "surprising-terrorism",
   "metadata": {},
   "outputs": [],
   "source": [
    "india.head(2)"
   ]
  },
  {
   "cell_type": "code",
   "execution_count": null,
   "id": "secure-albany",
   "metadata": {},
   "outputs": [],
   "source": [
    "india.isnull().sum()"
   ]
  },
  {
   "cell_type": "code",
   "execution_count": null,
   "id": "tropical-angel",
   "metadata": {},
   "outputs": [],
   "source": [
    "india.describe()"
   ]
  },
  {
   "cell_type": "markdown",
   "id": "married-hygiene",
   "metadata": {},
   "source": [
    "#### Distribution of India populations"
   ]
  },
  {
   "cell_type": "code",
   "execution_count": null,
   "id": "inner-removal",
   "metadata": {},
   "outputs": [],
   "source": [
    "india_numeric=india.iloc[:,[2,3]]"
   ]
  },
  {
   "cell_type": "code",
   "execution_count": null,
   "id": "ancient-chamber",
   "metadata": {},
   "outputs": [],
   "source": [
    "fig, ax = plt.subplots(nrows=2, ncols=1, figsize=(10,4))\n",
    "\n",
    "sns.histplot(data=india_numeric, x='Population_2011', ax=ax[0], color='magenta')\n",
    "sns.histplot(data=india_numeric, x='Population_2001', ax=ax[1], color='green')\n",
    "\n",
    "plt.show()"
   ]
  },
  {
   "cell_type": "markdown",
   "id": "structured-tennis",
   "metadata": {},
   "source": [
    "<p>The for loop below could easily be expanded for numerous plots.</p>"
   ]
  },
  {
   "cell_type": "code",
   "execution_count": null,
   "id": "compact-bernard",
   "metadata": {},
   "outputs": [],
   "source": [
    "india_colors=['cyan', 'magenta']\n",
    "\n",
    "fig, ax = plt.subplots(nrows=2, ncols=1, figsize=(10,5), sharex=True)\n",
    "plt.suptitle('Distribution of India population')\n",
    "\n",
    "for n,plot in enumerate(india_numeric.columns.tolist()):\n",
    "    print(n, plot)\n",
    "    sns.histplot(data=india, x=plot, ax=ax[n], color=india_colors[n])\n",
    "    \n",
    "plt.show()"
   ]
  },
  {
   "cell_type": "code",
   "execution_count": null,
   "id": "vocational-replication",
   "metadata": {},
   "outputs": [],
   "source": []
  },
  {
   "cell_type": "code",
   "execution_count": null,
   "id": "presidential-holmes",
   "metadata": {},
   "outputs": [],
   "source": [
    "paris_districts_222 = pd.read_csv(\"csv/paris_districts_222.csv\")"
   ]
  },
  {
   "cell_type": "code",
   "execution_count": null,
   "id": "subsequent-resolution",
   "metadata": {},
   "outputs": [],
   "source": [
    "# Seaborn | Style And Color: ttps://www.geeksforgeeks.org/seaborn-style-and-color/\n",
    "sns.set() \n",
    "sns.set_style(\"darkgrid\") \n",
    "sns.set_style(\"ticks\", {\"xtick.major.size\":20, \"ytick.major.size\":20})\n",
    "sns.set_theme(style=\"darkgrid\")"
   ]
  },
  {
   "cell_type": "code",
   "execution_count": null,
   "id": "reported-serial",
   "metadata": {},
   "outputs": [],
   "source": [
    "sns.histplot(paris_districts_222, kde=True, \n",
    "             edgecolor='black', linewidth=2, color=['crimson'])\n",
    "plt.show()"
   ]
  },
  {
   "cell_type": "code",
   "execution_count": null,
   "id": "patent-directive",
   "metadata": {},
   "outputs": [],
   "source": [
    "college_2 = pd.read_csv(\"csv/college_2.csv\")"
   ]
  },
  {
   "cell_type": "markdown",
   "id": "demographic-credit",
   "metadata": {},
   "source": [
    "### Creating a regression plot using hue"
   ]
  },
  {
   "cell_type": "code",
   "execution_count": null,
   "id": "european-palace",
   "metadata": {},
   "outputs": [],
   "source": [
    "sns.lmplot(data=college_2[:200],\n",
    "           x=\"PCTFLOAN\",\n",
    "           y=\"PCTPELL\",\n",
    "           hue=\"ICLEVEL\",\n",
    "           scatter_kws={'edgecolor':'black'})\n",
    "\n",
    "# Show the results\n",
    "plt.show()"
   ]
  },
  {
   "cell_type": "markdown",
   "id": "stuffed-voluntary",
   "metadata": {},
   "source": [
    "### Creating a regression plots using row"
   ]
  },
  {
   "cell_type": "code",
   "execution_count": null,
   "id": "soviet-monitoring",
   "metadata": {},
   "outputs": [],
   "source": [
    "sns.lmplot(data=college_2[:200],\n",
    "           x=\"PCTFLOAN\",\n",
    "           y=\"PCTPELL\",\n",
    "           row=\"ICLEVEL\",\n",
    "           scatter_kws={'edgecolor':'black', 'color':['green']},\n",
    "           line_kws={'color':'red'},\n",
    "           palette=\"husl\")\n",
    "\n",
    "# Show the results\n",
    "plt.show()       "
   ]
  },
  {
   "cell_type": "markdown",
   "id": "polar-accounting",
   "metadata": {},
   "source": [
    "#### Facet Grid of Tuition by the categorical variable \"HIGHDEG\""
   ]
  },
  {
   "cell_type": "code",
   "execution_count": null,
   "id": "substantial-going",
   "metadata": {},
   "outputs": [],
   "source": [
    "g = sns.FacetGrid(college_2, col=\"HIGHDEG\")\n",
    "g.map(sns.boxplot, 'Tuition', order=['1', '2', '3', '4'], color='r')\n",
    "\n",
    "plt.show()"
   ]
  },
  {
   "cell_type": "code",
   "execution_count": null,
   "id": "novel-marking",
   "metadata": {},
   "outputs": [],
   "source": [
    "g = sns.FacetGrid(college_2, col=\"HIGHDEG\")\n",
    "g.map(sns.histplot, 'Tuition', color='g')\n",
    "\n",
    "plt.show()"
   ]
  },
  {
   "cell_type": "markdown",
   "id": "straight-toner",
   "metadata": {},
   "source": [
    "#### Categorical plot\n",
    "<p>\n",
    "same as above with shorter interface.\n",
    "</p>"
   ]
  },
  {
   "cell_type": "code",
   "execution_count": null,
   "id": "classical-institute",
   "metadata": {},
   "outputs": [],
   "source": [
    "sns.catplot(x='Tuition', data=college_2, col='HIGHDEG', kind='box', color='azure')\n",
    "plt.show()"
   ]
  },
  {
   "cell_type": "code",
   "execution_count": null,
   "id": "sharing-vaccine",
   "metadata": {},
   "outputs": [],
   "source": [
    "g = sns.FacetGrid(college_2, col='Degree_Type',col_wrap=3)\n",
    "g.map(plt.scatter, 'MEDIAN_HH_INC', 'Tuition', edgecolor='black', color='cyan')\n",
    "plt.show()"
   ]
  },
  {
   "cell_type": "code",
   "execution_count": null,
   "id": "careful-decision",
   "metadata": {},
   "outputs": [],
   "source": [
    "g = sns.FacetGrid(college_2, col='Degree_Type',col_wrap=3, hue='HIGHDEG')\n",
    "g.map(plt.scatter, 'MEDIAN_HH_INC', 'Tuition', edgecolor='black')\n",
    "plt.show()"
   ]
  },
  {
   "cell_type": "markdown",
   "id": "clear-green",
   "metadata": {},
   "source": [
    "#### Regression plots on facet grids"
   ]
  },
  {
   "cell_type": "code",
   "execution_count": null,
   "id": "flush-lawsuit",
   "metadata": {},
   "outputs": [],
   "source": [
    "college_colors = ['deepskyblue', 'green', 'dimgrey', 'dodgerblue', 'firebrick']\n",
    "\n",
    "sns.lmplot(data=college_2, x='MEDIAN_HH_INC', y='Tuition', col='Degree_Type', fit_reg=True, \n",
    "           scatter_kws={'edgecolor':'black', 'color':'gold'}, \n",
    "           line_kws={'color':'black', 'linewidth':3},\n",
    "           col_wrap=3)\n",
    "plt.show()"
   ]
  },
  {
   "cell_type": "code",
   "execution_count": null,
   "id": "expired-flooring",
   "metadata": {},
   "outputs": [],
   "source": [
    "ice_unique = college_2['ICLEVEL'].unique().tolist()"
   ]
  },
  {
   "cell_type": "code",
   "execution_count": null,
   "id": "minimal-cabinet",
   "metadata": {},
   "outputs": [],
   "source": [
    "g_2 = sns.FacetGrid(college_2, row='ICLEVEL', row_order=ice_unique, height=1, aspect=2)\n",
    "g_2.map(sns.pointplot, 'SAT_AVG_ALL', order=ice_unique, color='orange')\n",
    "                    \n",
    "plt.show()\n",
    "plt.clf()"
   ]
  },
  {
   "cell_type": "code",
   "execution_count": null,
   "id": "golden-infrared",
   "metadata": {},
   "outputs": [],
   "source": [
    "sns.catplot(data=college_2, x='Tuition', kind='box', \n",
    "            row='Ownership', height=2, aspect=3, \n",
    "            color='salmon', \n",
    "            whiskerprops={'color':'blue', 'linewidth':4},\n",
    "            medianprops={'color':'green'}, \n",
    "            capprops={'color':'red'})\n",
    "plt.show()"
   ]
  },
  {
   "cell_type": "code",
   "execution_count": null,
   "id": "thousand-clerk",
   "metadata": {},
   "outputs": [],
   "source": [
    "\n",
    "sns.lmplot(data=college_2,\n",
    "        x='SAT_AVG_ALL',\n",
    "        y='Tuition',\n",
    "        col=\"Ownership\",\n",
    "        row='Degree_Type',\n",
    "        row_order=['Graduate', 'Bachelors'],\n",
    "        hue='WOMENONLY',\n",
    "        col_order=college_2.Ownership.unique().tolist(),\n",
    "        scatter_kws={'edgecolor':'black'})\n",
    "\n",
    "plt.show()\n",
    "plt.clf()"
   ]
  },
  {
   "cell_type": "markdown",
   "id": "reasonable-twenty",
   "metadata": {},
   "source": [
    "#### Pair grid\n",
    "<p>\n",
    "for plotting the relationships of 2 variables on a grid.\n",
    "</p>"
   ]
  },
  {
   "cell_type": "code",
   "execution_count": null,
   "id": "several-blowing",
   "metadata": {},
   "outputs": [],
   "source": [
    "\n",
    "g_33 = sns.PairGrid(data=college_2, vars=['AVGFACSAL', 'ADM_RATE_ALL', 'SAT_AVG_ALL'])\n",
    "g_33.fig.set_size_inches(10,5)\n",
    "\n",
    "# Maps on the diagonla of the pairplot\n",
    "g_44 = g_33.map_diag(plt.hist, edgecolor='black', color='cyan')\n",
    "g_55 = g_44.map_offdiag(plt.scatter, edgecolor='black', color='orange')\n",
    "\n",
    "plt.show()\n",
    "plt.clf()"
   ]
  },
  {
   "cell_type": "markdown",
   "id": "indoor-frequency",
   "metadata": {},
   "source": [
    "#### Pairplot\n",
    "<p>does the same, but is more convenient.\n",
    "</p>"
   ]
  },
  {
   "cell_type": "code",
   "execution_count": null,
   "id": "united-incentive",
   "metadata": {},
   "outputs": [],
   "source": [
    "sns.pairplot(data=college_2, \n",
    "             vars=['AVGFACSAL', 'ADM_RATE_ALL', 'SAT_AVG_ALL'], \n",
    "             kind='scatter', \n",
    "             hue='Degree_Type', \n",
    "             palette='RdBu'\n",
    "            )\n",
    "plt.show()\n",
    "plt.clf()"
   ]
  },
  {
   "cell_type": "markdown",
   "id": "clear-vinyl",
   "metadata": {},
   "source": [
    "#### Specifiy special relationships"
   ]
  },
  {
   "cell_type": "code",
   "execution_count": null,
   "id": "incorrect-russia",
   "metadata": {},
   "outputs": [],
   "source": [
    "sns.pairplot(data=college_2, \n",
    "             x_vars=['AVGFACSAL', 'ADM_RATE_ALL'],\n",
    "             y_vars=['COMPL_RPY_5YR_RT', 'DEBT_MDN'],\n",
    "             hue='HIGHDEG', \n",
    "             palette='husl',\n",
    "             height=5)\n",
    "plt.show()\n",
    "plt.clf()"
   ]
  },
  {
   "cell_type": "code",
   "execution_count": null,
   "id": "protected-enlargement",
   "metadata": {},
   "outputs": [],
   "source": [
    "# college_2.info()"
   ]
  },
  {
   "cell_type": "code",
   "execution_count": null,
   "id": "instrumental-chicago",
   "metadata": {},
   "outputs": [],
   "source": [
    "# Build a JointGrid comparing humidity and total_rentals\n",
    "sns.set_style(\"whitegrid\")\n",
    "g_77 = sns.JointGrid(x=\"PCTFLOAN\",\n",
    "            y=\"PCTPELL\",\n",
    "            data=college_2,\n",
    "            xlim=(0.1, 1.0)) \n",
    "\n",
    "g_77.plot_joint(sns.scatterplot, s=100, alpha=.5, color='gold', edgecolor='black')\n",
    "g_77.plot_marginals(sns.histplot, kde=True, color='magenta', edgecolor='black')\n",
    "\n",
    "plt.show()\n",
    "plt.clf()"
   ]
  },
  {
   "cell_type": "markdown",
   "id": "general-fluid",
   "metadata": {},
   "source": [
    "#### Joint plot overlayed with kde plot"
   ]
  },
  {
   "cell_type": "code",
   "execution_count": null,
   "id": "indoor-denver",
   "metadata": {},
   "outputs": [],
   "source": [
    "sns.jointplot(x=\"PCTFLOAN\",\n",
    "              y=\"PCTPELL\",\n",
    "              data=college_2,\n",
    "              joint_kws={'color':'magenta', 'edgecolor':'black', 'alpha':0.4},\n",
    "              marginal_kws={'color':'lime', 'edgecolor':'black'}).plot_joint(sns.kdeplot, color='lime') \n",
    "            \n",
    "plt.show()"
   ]
  },
  {
   "cell_type": "code",
   "execution_count": null,
   "id": "attempted-spell",
   "metadata": {},
   "outputs": [],
   "source": [
    "sns.jointplot(data=college_2, x=\"PCTFLOAN\", y=\"PCTPELL\",\n",
    "              kind='reg', order=2,\n",
    "              line_kws={'color':'magenta','linewidth':4},\n",
    "              scatter_kws={'color':'azure', 'edgecolor':'black'},\n",
    "              marginal_kws={'color':'crimson', 'edgecolor':'black'})\n",
    "\n",
    "plt.show()\n",
    "plt.clf()"
   ]
  },
  {
   "cell_type": "code",
   "execution_count": null,
   "id": "limiting-light",
   "metadata": {},
   "outputs": [],
   "source": [
    "sns.jointplot(data=college_2, x=\"PCTFLOAN\", y=\"PCTPELL\",\n",
    "              kind='resid', order=2,\n",
    "              line_kws={'color':'red','linewidth':4},\n",
    "              scatter_kws={'color':'azure', 'edgecolor':'black'},\n",
    "              marginal_kws={'color':'crimson', 'edgecolor':'black'})\n",
    "\n",
    "plt.show()\n",
    "plt.clf()"
   ]
  },
  {
   "cell_type": "code",
   "execution_count": null,
   "id": "parallel-safety",
   "metadata": {},
   "outputs": [],
   "source": []
  },
  {
   "cell_type": "code",
   "execution_count": null,
   "id": "vocal-logging",
   "metadata": {},
   "outputs": [],
   "source": []
  },
  {
   "cell_type": "code",
   "execution_count": null,
   "id": "agricultural-commercial",
   "metadata": {},
   "outputs": [],
   "source": [
    "### Pairplot"
   ]
  },
  {
   "cell_type": "code",
   "execution_count": null,
   "id": "simplified-dutch",
   "metadata": {},
   "outputs": [],
   "source": [
    "boston_df = pd.read_csv(\"csv/boston_df.csv\")"
   ]
  },
  {
   "cell_type": "code",
   "execution_count": null,
   "id": "another-absorption",
   "metadata": {},
   "outputs": [],
   "source": [
    "sns.pairplot(boston_df.iloc[:,:4], kind='scatter',\n",
    "             plot_kws=dict(marker=\"+\", linewidth=1, color=['mediumvioletred'], \n",
    "                           edgecolor='black'))\n",
    "plt.show()"
   ]
  },
  {
   "cell_type": "code",
   "execution_count": null,
   "id": "friendly-marking",
   "metadata": {},
   "outputs": [],
   "source": [
    "sns.pairplot(data=boston_df, x_vars=['price'], y_vars=boston_df.iloc[:,[0,1,2,4,5]], kind='scatter',\n",
    "             plot_kws=dict(edgecolor='black', color='mediumturquoise'))\n",
    "plt.show()"
   ]
  },
  {
   "cell_type": "markdown",
   "id": "activated-pharmacy",
   "metadata": {},
   "source": [
    "#### Correlations\n",
    "<p>can give indications about features with a good predictive power.<br>\n",
    "Feature engineering, while essential, is not examined further here.</p>"
   ]
  },
  {
   "cell_type": "code",
   "execution_count": null,
   "id": "silent-distribution",
   "metadata": {},
   "outputs": [],
   "source": [
    "boston_correlations = boston_df.corr()\n",
    "\n",
    "print(boston_correlations.shape)\n",
    "boston_correlations.iloc[:5, :8]"
   ]
  },
  {
   "cell_type": "markdown",
   "id": "blind-trial",
   "metadata": {},
   "source": [
    "#### pandas.core.style.Styler.background_gradient\n",
    "<a href=\"https://pandas.pydata.org/pandas-docs/version/0.17.1/generated/pandas.core.style.Styler.background_gradient.html\" target=\"_blank\">Pandas\n",
    "</a> "
   ]
  },
  {
   "cell_type": "code",
   "execution_count": null,
   "id": "persistent-quick",
   "metadata": {},
   "outputs": [],
   "source": [
    "boston_correlations.style.background_gradient(cmap='coolwarm')"
   ]
  },
  {
   "cell_type": "markdown",
   "id": "incomplete-trustee",
   "metadata": {},
   "source": [
    "<p>Highly correleated features could point to the phenomenon of Multicollinearity:</p>\n",
    "<p>\n",
    "\"That is, a multivariate regression model with collinear predictors can indicate how well the entire bundle of predictors predicts the outcome variable, but it may not give valid results about any individual predictor, or about which predictors are redundant with respect to others.\"</p>\n",
    "<a href=\"https://en.wikipedia.org/wiki/Multicollinearity\" target=\"_blank\">Wikipedia</a> "
   ]
  },
  {
   "cell_type": "markdown",
   "id": "lined-reduction",
   "metadata": {},
   "source": [
    "#### Correlations and heatmaps"
   ]
  },
  {
   "cell_type": "code",
   "execution_count": null,
   "id": "radio-community",
   "metadata": {},
   "outputs": [],
   "source": [
    "boston_price_corr = boston_df.corrwith(boston_df['price'])\n",
    "boston_price_corr_df = pd.DataFrame(boston_price_corr)\n",
    "boston_price_corr_df.reset_index(inplace=True)\n",
    "boston_price_corr_df.columns = ['Features', 'Correlation']"
   ]
  },
  {
   "cell_type": "code",
   "execution_count": null,
   "id": "egyptian-country",
   "metadata": {},
   "outputs": [],
   "source": [
    "boston_price_corr_df_colored = boston_price_corr_df.style.background_gradient(cmap='coolwarm')\n",
    "boston_price_corr_df_colored"
   ]
  },
  {
   "cell_type": "markdown",
   "id": "variable-premiere",
   "metadata": {},
   "source": [
    "#### Min-Max-correlations"
   ]
  },
  {
   "cell_type": "code",
   "execution_count": null,
   "id": "automated-density",
   "metadata": {},
   "outputs": [],
   "source": [
    "boston_price_corr_df_max = boston_price_corr_df.iloc[0:13,:]\n",
    "boston_price_corr_df_max\n",
    "# print(boston_price_corr_df_max)\n",
    "\n",
    "max_mask = boston_price_corr_df_max['Correlation'] == boston_price_corr_df_max['Correlation'].max()\n",
    "min_mask = boston_price_corr_df_max['Correlation'] == boston_price_corr_df_max['Correlation'].min()"
   ]
  },
  {
   "cell_type": "code",
   "execution_count": null,
   "id": "funky-ghana",
   "metadata": {},
   "outputs": [],
   "source": [
    "print(\"Maximum correlation\")\n",
    "print(\"________________________________\")\n",
    "print(boston_price_corr_df_max[max_mask])"
   ]
  },
  {
   "cell_type": "code",
   "execution_count": null,
   "id": "changed-parking",
   "metadata": {},
   "outputs": [],
   "source": [
    "print(\"Minimum correlation\")\n",
    "print(\"________________________________\")\n",
    "print(boston_price_corr_df_max[min_mask])"
   ]
  },
  {
   "cell_type": "markdown",
   "id": "helpful-calendar",
   "metadata": {},
   "source": [
    "### Heatmaps\n",
    "#### Seaborn"
   ]
  },
  {
   "cell_type": "code",
   "execution_count": null,
   "id": "qualified-cursor",
   "metadata": {},
   "outputs": [],
   "source": [
    "sns.heatmap(boston_correlations,cmap='Paired')\n",
    "plt.show()"
   ]
  },
  {
   "cell_type": "code",
   "execution_count": null,
   "id": "negative-speech",
   "metadata": {},
   "outputs": [],
   "source": []
  },
  {
   "cell_type": "markdown",
   "id": "swiss-variety",
   "metadata": {},
   "source": [
    "### Data: Gapminder\n",
    "#### Data exploration"
   ]
  },
  {
   "cell_type": "code",
   "execution_count": null,
   "id": "amino-survival",
   "metadata": {},
   "outputs": [],
   "source": [
    "gap=px.data.gapminder()\n",
    "gap.info()\n",
    "gap.head(1)"
   ]
  },
  {
   "cell_type": "code",
   "execution_count": null,
   "id": "tired-ecuador",
   "metadata": {},
   "outputs": [],
   "source": [
    "continents=gap.groupby('continent')['pop'].size().sort_values(ascending=False)\n",
    "continents"
   ]
  },
  {
   "cell_type": "code",
   "execution_count": null,
   "id": "unnecessary-surprise",
   "metadata": {},
   "outputs": [],
   "source": [
    "gap.continent.value_counts()"
   ]
  },
  {
   "cell_type": "code",
   "execution_count": null,
   "id": "surgical-intervention",
   "metadata": {},
   "outputs": [],
   "source": [
    "continents.plot.bar(edgecolor='black', linewidth=2, color=['chocolate', 'lime'],\n",
    "                    title='Population size by continent.')\n",
    "plt.show()"
   ]
  },
  {
   "cell_type": "code",
   "execution_count": null,
   "id": "egyptian-player",
   "metadata": {},
   "outputs": [],
   "source": [
    "gap.describe()"
   ]
  },
  {
   "cell_type": "markdown",
   "id": "unable-cardiff",
   "metadata": {},
   "source": [
    "### Data visualization\n",
    "#### Relationship between lifeExp and gdpPercap"
   ]
  },
  {
   "cell_type": "code",
   "execution_count": null,
   "id": "plain-michael",
   "metadata": {},
   "outputs": [],
   "source": [
    "life_gdp = px.scatter(gap, x='gdpPercap', y='lifeExp', width=600, height=300, \n",
    "                      color_discrete_sequence=['green'], \n",
    "                      title='Relationship between lifeExp and gdpPercap')\n",
    "life_gdp.update_traces(marker_line_width=1,marker_line_color=\"black\")\n",
    "life_gdp.show()"
   ]
  },
  {
   "cell_type": "code",
   "execution_count": null,
   "id": "smoking-colony",
   "metadata": {},
   "outputs": [],
   "source": [
    "life_gdp_conti = px.scatter(gap, x='gdpPercap', y='lifeExp', width=600, height=300, \n",
    "                      color='continent', \n",
    "                      title='Relationship between lifeExp and gdpPercap')\n",
    "life_gdp_conti.update_traces(marker_line_width=1,marker_line_color=\"black\")\n",
    "life_gdp_conti.show()"
   ]
  },
  {
   "cell_type": "markdown",
   "id": "urban-scholar",
   "metadata": {},
   "source": [
    "#### Pairwise correlations"
   ]
  },
  {
   "cell_type": "code",
   "execution_count": null,
   "id": "original-ordinary",
   "metadata": {},
   "outputs": [],
   "source": [
    "gap_corrs = gap.corr()\n",
    "gap_corrs"
   ]
  },
  {
   "cell_type": "code",
   "execution_count": null,
   "id": "worldwide-vector",
   "metadata": {},
   "outputs": [],
   "source": [
    "mask = np.triu(np.ones_like(gap_corrs, dtype=bool))\n",
    "cmap = sns.diverging_palette(230, 20, as_cmap=True)\n",
    "sns.heatmap(gap_corrs, cmap=cmap, vmax=.3, center=0, mask=mask,\n",
    "            square=True, linewidths=.6, cbar_kws={\"shrink\": .8})\n",
    "plt.show()"
   ]
  },
  {
   "cell_type": "code",
   "execution_count": null,
   "id": "changed-undergraduate",
   "metadata": {},
   "outputs": [],
   "source": []
  },
  {
   "cell_type": "markdown",
   "id": "bacterial-headset",
   "metadata": {},
   "source": [
    "<p>\n",
    "The data visualization in this small notebook is conducted with Seaborn.<br>\n",
    "Below are some customization options.</p>\n",
    "\n",
    "### Customizing plots\n",
    "\n",
    "<p>The method sns.plotting_context give the options for customization.</p>\n",
    "<p>An overview of the underlying Pyplot options is given here:<br>\n",
    "    \n",
    "<a href=\"https://matplotlib.org/stable/tutorials/introductory/customizing.html\" target=\"_blank\">Customizing Matplotlib with style sheets and rcParams</a> \n",
    "</p>\n"
   ]
  },
  {
   "cell_type": "code",
   "execution_count": null,
   "id": "satisfied-intervention",
   "metadata": {},
   "outputs": [],
   "source": [
    "plt.style.use(['Solarize_Light2'])\n",
    "\n",
    "sns.set_context(\"notebook\")\n",
    "sns.plotting_context()"
   ]
  },
  {
   "cell_type": "markdown",
   "id": "danish-showcase",
   "metadata": {},
   "source": [
    "<p>Another option.</p>"
   ]
  },
  {
   "cell_type": "code",
   "execution_count": null,
   "id": "approximate-placement",
   "metadata": {},
   "outputs": [],
   "source": [
    "sns.set_context(\"poster\")\n",
    "sns.plotting_context()"
   ]
  },
  {
   "cell_type": "markdown",
   "id": "major-cattle",
   "metadata": {},
   "source": [
    "<p>The full control\n",
    "of plot style and scaling of Seaborn using the matplotlib rcParams interface are \n",
    "given on\n",
    "<a href=\"https://github.com/mwaskom/seaborn/blob/master/seaborn/rcmod.py#L14\" target=\"_blank\">Github</a>.\n",
    "</p>"
   ]
  },
  {
   "cell_type": "markdown",
   "id": "least-begin",
   "metadata": {},
   "source": [
    "# What is NumPy?\n",
    "\n",
    "<p>\n",
    "\"NumPy is the fundamental package for scientific computing in Python. It is a Python library that provides a multidimensional array object, various derived objects (such as masked arrays and matrices), and an assortment of routines for fast operations on arrays, including mathematical, logical, shape manipulation, sorting, selecting, I/O, discrete Fourier transforms, basic linear algebra, basic statistical operations, random simulation and much more.<br>\n",
    "<a href=\"https://numpy.org/devdocs/user/whatisnumpy.html\" target=\"_blank\">Numpy</a> \n",
    "</p>\n",
    "\n",
    "<p>\n",
    "A full overview of random sampling within Numpy is given in the\n",
    "<a href=\"https://docs.scipy.org/doc/numpy-1.14.0/reference/routines.random.html\">Numpy</a> documentation.  \n",
    "</p>"
   ]
  },
  {
   "cell_type": "markdown",
   "id": "relevant-therapy",
   "metadata": {},
   "source": [
    "### numpy.random.rand\n",
    "<p>is generating floats in shape of an array.</p>"
   ]
  },
  {
   "cell_type": "code",
   "execution_count": null,
   "id": "coupled-physiology",
   "metadata": {},
   "outputs": [],
   "source": [
    "rand_1=np.random.rand()\n",
    "\n",
    "print(type(rand_1))\n",
    "print(rand_1)\n",
    "print(np.count_nonzero(rand_1))"
   ]
  },
  {
   "cell_type": "code",
   "execution_count": null,
   "id": "durable-grant",
   "metadata": {},
   "outputs": [],
   "source": [
    "rand_2=np.random.rand(2,2)\n",
    "\n",
    "print(type(rand_2))\n",
    "print(rand_2)\n",
    "print(rand_2.shape)\n",
    "print(np.count_nonzero(rand_2))"
   ]
  },
  {
   "cell_type": "code",
   "execution_count": null,
   "id": "banned-sheep",
   "metadata": {},
   "outputs": [],
   "source": [
    "np_rand_3=np.random.rand(1,10)\n",
    "\n",
    "print(type(np_rand_3))\n",
    "print(np_rand_3)\n",
    "print(np_rand_3.shape)\n",
    "print(np.count_nonzero(np_rand_3))"
   ]
  },
  {
   "cell_type": "markdown",
   "id": "hidden-allocation",
   "metadata": {},
   "source": [
    "<p>As the values are randomly generated the distribution should be uniform.</p>"
   ]
  },
  {
   "cell_type": "code",
   "execution_count": null,
   "id": "frozen-cause",
   "metadata": {},
   "outputs": [],
   "source": [
    "np_rand_4=np.random.rand(1,10000).flatten()\n",
    "\n",
    "pd.DataFrame(np_rand_4).plot.hist(bins=10, legend=False, edgecolor='red', color='black')\n",
    "plt.show()"
   ]
  },
  {
   "cell_type": "markdown",
   "id": "industrial-carry",
   "metadata": {},
   "source": [
    "## np.random.random_sample\n",
    "\n",
    "<p>is similar to numpy.random.rand.</p>"
   ]
  },
  {
   "cell_type": "code",
   "execution_count": null,
   "id": "sharing-quest",
   "metadata": {},
   "outputs": [],
   "source": [
    "np_sample_1=np.random.random_sample((5, 2))\n",
    "\n",
    "print(type(np_sample_1))\n",
    "print(np_sample_1.shape)\n",
    "print(len(np_sample_1))\n",
    "print(np.count_nonzero(np_sample_1))\n",
    "print(np_sample_1)"
   ]
  },
  {
   "cell_type": "markdown",
   "id": "fresh-gravity",
   "metadata": {},
   "source": [
    "# numpy.zeros\n",
    "\n",
    "<p>returns an array, too, but filled with zeros, which is often helpful, when \n",
    "the values are inserted later.</p>"
   ]
  },
  {
   "cell_type": "code",
   "execution_count": null,
   "id": "formed-electronics",
   "metadata": {},
   "outputs": [],
   "source": [
    "zeros_1=np.zeros((2,3))\n",
    "\n",
    "print(type(zeros_1))\n",
    "print(zeros_1.shape)\n",
    "print(np.count_nonzero(zeros_1))\n",
    "print(zeros_1)"
   ]
  },
  {
   "cell_type": "code",
   "execution_count": null,
   "id": "soviet-latin",
   "metadata": {},
   "outputs": [],
   "source": [
    "zeros_2=np.zeros((1,10))\n",
    "\n",
    "print(type(zeros_2))\n",
    "print(zeros_2.shape)\n",
    "print(np.count_nonzero(zeros_2))\n",
    "print(zeros_2)"
   ]
  },
  {
   "cell_type": "markdown",
   "id": "limiting-democracy",
   "metadata": {},
   "source": [
    "<p>Unitialized, arbitray data is returned with.</p>"
   ]
  },
  {
   "cell_type": "code",
   "execution_count": null,
   "id": "surprising-connectivity",
   "metadata": {},
   "outputs": [],
   "source": [
    "empty_1= np.empty((3,3))\n",
    "\n",
    "print(type(empty_1))\n",
    "print(empty_1.shape)\n",
    "print(np.count_nonzero(empty_1))\n",
    "print(empty_1)"
   ]
  },
  {
   "cell_type": "markdown",
   "id": "intimate-melbourne",
   "metadata": {},
   "source": [
    "## Generating random numbers from the standard normal distribution\n",
    "\n",
    "<p>with different functions.</p>"
   ]
  },
  {
   "cell_type": "code",
   "execution_count": null,
   "id": "decimal-hayes",
   "metadata": {},
   "outputs": [],
   "source": [
    "normal_1=np.random.randn(100,100)\n",
    "\n",
    "print(type(normal_1))\n",
    "print(normal_1.shape)\n",
    "print(np.count_nonzero(normal_1))\n",
    "print(normal_1[2:3,1:3])"
   ]
  },
  {
   "cell_type": "code",
   "execution_count": null,
   "id": "hybrid-google",
   "metadata": {},
   "outputs": [],
   "source": [
    "normal_1_flatten=normal_1.flatten()\n",
    "\n",
    "sns.set_context(\"notebook\", font_scale=1,\n",
    "                rc={\"lines.linewidth\": 2.5, 'xtick.labelsize':8, \n",
    "                    'xtick.color':'red'})\n",
    "sns.set_style(\"ticks\", \n",
    "              rc={'axes.facecolor':'azure', 'figure.facecolor':'lightblue',\n",
    "                  \"xtick.color\":'red'})\n",
    "\n",
    "fig, (ax1, ax2) = plt.subplots(1,2, figsize=(10,4))\n",
    "sns.histplot(normal_1_flatten, edgecolor='red', linewidth=3, bins=40, ax=ax1)\n",
    "sns.kdeplot(data=normal_1_flatten, ax=ax2)\n",
    "\n",
    "\n",
    "plt.show()\n",
    "\n",
    "sns.plotting_context()"
   ]
  },
  {
   "cell_type": "code",
   "execution_count": null,
   "id": "current-wallet",
   "metadata": {},
   "outputs": [],
   "source": [
    "normal_2=np.random.standard_normal((1000,1000)) # needs a tuple\n",
    "\n",
    "print(type(normal_2))\n",
    "print(normal_2.shape)\n",
    "print(np.count_nonzero(normal_2))\n",
    "print(normal_2[2:3,1:3])"
   ]
  },
  {
   "cell_type": "code",
   "execution_count": null,
   "id": "fundamental-breathing",
   "metadata": {},
   "outputs": [],
   "source": [
    "normal_2_flatten=normal_2.flatten()\n",
    "\n",
    "print(type(normal_2_flatten))\n",
    "print(normal_2_flatten.shape)\n",
    "print(np.count_nonzero(normal_2_flatten))\n",
    "print(normal_2_flatten[2:10])\n",
    "\n",
    "fig, (ax1, ax2) = plt.subplots(1,2, figsize=(10,4))\n",
    "sns.set_style('whitegrid')\n",
    "sns.histplot(normal_2_flatten, bins=40, edgecolor='red', color='lime', linewidth=3, ax=ax1)\n",
    "sns.kdeplot(data=normal_2_flatten, ax=ax2)\n",
    "\n",
    "plt.show()"
   ]
  },
  {
   "cell_type": "markdown",
   "id": "fallen-kelly",
   "metadata": {},
   "source": [
    "### np.random.normal\n",
    "\n",
    "<p>\n",
    "generates values base on the mean and std deviation.<br>   \n",
    "Mean of 0, and STD of 1 give the normal distribution.\n",
    "</p>"
   ]
  },
  {
   "cell_type": "code",
   "execution_count": null,
   "id": "strategic-gauge",
   "metadata": {},
   "outputs": [],
   "source": [
    "normal_normal=np.random.normal(loc=0, scale=1, size=1000)"
   ]
  },
  {
   "cell_type": "code",
   "execution_count": null,
   "id": "numeric-import",
   "metadata": {},
   "outputs": [],
   "source": [
    "sns.set_style(\"ticks\", \n",
    "              rc={'axes.facecolor':'cornflowerblue', 'figure.facecolor':'cornflowerblue'})\n",
    "sns.histplot(normal_normal, bins=40, edgecolor='y', linewidth=5, color='black', kde='kde')\n",
    "plt.grid(axis='both')\n",
    "plt.show()"
   ]
  },
  {
   "cell_type": "code",
   "execution_count": null,
   "id": "antique-theme",
   "metadata": {},
   "outputs": [],
   "source": [
    "values_1, bin_edges_1 = np.histogram(normal_normal, bins=40)\n",
    "\n",
    "print(values_1)\n",
    "print(type(values_1))\n",
    "\n",
    "print(bin_edges_1)"
   ]
  },
  {
   "cell_type": "code",
   "execution_count": null,
   "id": "compressed-resistance",
   "metadata": {},
   "outputs": [],
   "source": [
    "values_1_list = values_1.tolist()\n",
    "values_1_list.insert(0,0)\n",
    "\n",
    "bin_edges_1_list = bin_edges_1.tolist()\n",
    "\n",
    "print(len(values_1_list))\n",
    "print(len(bin_edges_1_list))"
   ]
  },
  {
   "cell_type": "code",
   "execution_count": null,
   "id": "rental-maria",
   "metadata": {},
   "outputs": [],
   "source": [
    "sns.set_style(\"ticks\", \n",
    "              rc={'axes.facecolor':'yellow', 'figure.facecolor':'gold'})\n",
    "sns.barplot(x=bin_edges_1, y=values_1_list)\n",
    "plt.grid(axis='y')\n",
    "plt.xticks([])\n",
    "plt.show()"
   ]
  },
  {
   "cell_type": "markdown",
   "id": "russian-affair",
   "metadata": {},
   "source": [
    "### np.random.randint\n",
    "<p>\n",
    "approaches the uniforn distribution.\n",
    "</p>"
   ]
  },
  {
   "cell_type": "code",
   "execution_count": null,
   "id": "compressed-links",
   "metadata": {},
   "outputs": [],
   "source": [
    "### np.random.randint\n",
    "\n",
    "int_1=np.random.randint(low=1,high=100, size=1000).tolist()\n",
    "print(int_1[:10])\n",
    "\n",
    "x_1=np.arange(0,1000)\n",
    "\n",
    "fig, (ax1, ax2) = plt.subplots(1,2, figsize=(12,5))\n",
    "\n",
    "sns.barplot(x=x_1, y=int_1, color='red', linewidth=0.2, edgecolor='black', ax=ax1)\n",
    "ax1.set_xticks([])\n",
    "ax2.hist(int_1, bins=40, edgecolor='black', color='gold')\n",
    "\n",
    "plt.show()\n",
    "\n"
   ]
  },
  {
   "cell_type": "markdown",
   "id": "surprised-celebrity",
   "metadata": {},
   "source": [
    "### np.random.random\n",
    "<p>returns a defined array of random floats.</p>"
   ]
  },
  {
   "cell_type": "code",
   "execution_count": null,
   "id": "eleven-glucose",
   "metadata": {},
   "outputs": [],
   "source": [
    "random_floats=np.random.random((3,4))\n",
    "\n",
    "print(random_floats.shape)\n",
    "print(random_floats)"
   ]
  },
  {
   "cell_type": "markdown",
   "id": "decent-julian",
   "metadata": {},
   "source": [
    "<p>This gives these number of values: </p>"
   ]
  },
  {
   "cell_type": "code",
   "execution_count": null,
   "id": "recreational-kitty",
   "metadata": {},
   "outputs": [],
   "source": [
    "print(np.count_nonzero(random_floats))\n",
    "print(3*4)"
   ]
  },
  {
   "cell_type": "code",
   "execution_count": null,
   "id": "assigned-chase",
   "metadata": {},
   "outputs": [],
   "source": [
    "random_floats_2=np.random.random_sample((10,10))\n",
    "\n",
    "print(np.count_nonzero(random_floats_2))\n",
    "random_floats_2[:2,:10]"
   ]
  },
  {
   "cell_type": "markdown",
   "id": "prompt-dinner",
   "metadata": {},
   "source": [
    "### np.random.choice(a, size=None, replace=True, p=None)\n",
    "\n",
    "<p>takes a sample from a population.</p>"
   ]
  },
  {
   "cell_type": "code",
   "execution_count": null,
   "id": "interstate-paraguay",
   "metadata": {},
   "outputs": [],
   "source": [
    "# Generating a pseudo population.\n",
    "population_1=np.random.randint(low=1000, high=1200, size=100)\n",
    "\n",
    "# Taking samples.\n",
    "choice_1=np.random.choice(population_1, size=10)\n",
    "print(choice_1.shape)\n",
    "print(choice_1)\n",
    "\n",
    "choice_2=np.random.choice(population_1, size=(5,5))\n",
    "print(choice_2.shape)\n",
    "print(choice_2[:3,:4])\n",
    "\n",
    "choice_3=np.random.choice(population_1, size=(100,50))\n",
    "print(choice_3.shape)\n",
    "\n",
    "choice_4=np.random.choice(population_1, size=(10,10), replace=False)\n",
    "print(choice_4.shape)"
   ]
  },
  {
   "cell_type": "code",
   "execution_count": null,
   "id": "still-cutting",
   "metadata": {},
   "outputs": [],
   "source": [
    "sns.set_style('darkgrid')\n",
    "sns.displot(choice_3.flatten(), color='crimson', edgecolor='lime',\n",
    "            linewidth=8, height=12, aspect=4\n",
    "                )\n",
    "plt.show()"
   ]
  },
  {
   "cell_type": "markdown",
   "id": "brown-accounting",
   "metadata": {},
   "source": [
    "### np.random.uniform(low=0.0, high=1.0, size=None)"
   ]
  },
  {
   "cell_type": "code",
   "execution_count": null,
   "id": "stable-auction",
   "metadata": {},
   "outputs": [],
   "source": [
    "np.random.uniform(low=0.3, high=0.8, size=10)"
   ]
  },
  {
   "cell_type": "code",
   "execution_count": null,
   "id": "mysterious-freedom",
   "metadata": {},
   "outputs": [],
   "source": [
    "uni_1=np.random.uniform(low=0.3, high=0.8, size=10000)"
   ]
  },
  {
   "cell_type": "code",
   "execution_count": null,
   "id": "acting-addition",
   "metadata": {},
   "outputs": [],
   "source": [
    "sns.set_style('darkgrid')\n",
    "sns.displot(uni_1, color='orange', edgecolor='black', height=12, aspect=4\n",
    "                )\n",
    "plt.show()"
   ]
  },
  {
   "cell_type": "markdown",
   "id": "incorporate-terrain",
   "metadata": {},
   "source": [
    "### Shuffling the data with numpy\n",
    "### np.random.shuffle(x)"
   ]
  },
  {
   "cell_type": "code",
   "execution_count": null,
   "id": "italic-tampa",
   "metadata": {},
   "outputs": [],
   "source": [
    "arange_3=np.arange(1,50,1)\n",
    "# shuffle in place\n",
    "np.random.shuffle(arange_3)\n",
    "print(arange_3)"
   ]
  },
  {
   "cell_type": "markdown",
   "id": "monthly-wages",
   "metadata": {},
   "source": [
    "### np.random.permutation(x)"
   ]
  },
  {
   "cell_type": "code",
   "execution_count": null,
   "id": "practical-scratch",
   "metadata": {},
   "outputs": [],
   "source": [
    "arange_4=np.arange(1000,1010,1)\n",
    "print(arange_4)"
   ]
  },
  {
   "cell_type": "code",
   "execution_count": null,
   "id": "selective-spider",
   "metadata": {},
   "outputs": [],
   "source": [
    "np.random.permutation(arange_4)"
   ]
  },
  {
   "cell_type": "markdown",
   "id": "isolated-article",
   "metadata": {},
   "source": [
    "<p>Random data with Scipy statistics.</p>\n",
    "\n",
    "# What is Scipy?\n",
    "\n",
    "<p>\n",
    "\"SciPy is a collection of mathematical algorithms and convenience functions built on the NumPy extension of Python. It adds significant power to the interactive Python session by providing the user with high-level commands and classes for manipulating and visualizing data. With SciPy, an interactive Python session becomes a data-processing and system-prototyping environment rivaling systems, such as MATLAB, IDL, Octave, R-Lab, and SciLab.\"\n",
    "<a href=\"https://docs.scipy.org/doc/scipy/tutorial/general.html\" target=\"_blank\">Scipy</a>     \n",
    "</p>\n",
    "\n",
    "<p>\n",
    "The Statistics (scipy.stats) package offers many<br>\n",
    "<b>Random variables.</b><br>\n",
    "\"There are two general distribution classes that have been implemented for encapsulating continuous random variables and discrete random variables. Over 80 continuous random variables (RVs) and 10 discrete random variables have been implemented using these classes. Besides this, new routines and distributions can be easily added by the end user.\"<br>\n",
    "<a href=\"https://docs.scipy.org/doc/scipy/reference/tutorial/stats.html\" target=\"_blank\">SciPy</a> \n",
    "</p>\n",
    "\n",
    "<p>\n",
    "Below some random variable functions are applied:\n",
    "</p>"
   ]
  },
  {
   "cell_type": "code",
   "execution_count": null,
   "id": "matched-student",
   "metadata": {},
   "outputs": [],
   "source": [
    "norm_3=stats.norm.rvs(size=(1000,1000)).flatten()\n",
    "\n",
    "print(type(norm_3))\n",
    "print(norm_3.shape)\n",
    "print(np.count_nonzero(norm_3))\n",
    "print(norm_3[2:10])"
   ]
  },
  {
   "cell_type": "code",
   "execution_count": null,
   "id": "encouraging-remainder",
   "metadata": {},
   "outputs": [],
   "source": [
    "print(norm_3.mean())\n",
    "print(norm_3.std())"
   ]
  },
  {
   "cell_type": "code",
   "execution_count": null,
   "id": "laughing-specific",
   "metadata": {},
   "outputs": [],
   "source": [
    "stats.describe(norm_3)"
   ]
  },
  {
   "cell_type": "code",
   "execution_count": null,
   "id": "continuous-battlefield",
   "metadata": {},
   "outputs": [],
   "source": [
    "sns.set_style(\"darkgrid\")\n",
    "sns.histplot(norm_3, bins=40, edgecolor='g', linewidth=2, color='black', kde='kde')\n",
    "plt.show()"
   ]
  },
  {
   "cell_type": "code",
   "execution_count": null,
   "id": "ongoing-cooling",
   "metadata": {},
   "outputs": [],
   "source": [
    "norm_4=stats.norm.rvs(loc=0, scale=1, size=9000000, random_state=None)\n",
    "\n",
    "print(norm_4.mean())\n",
    "print(norm_4.std())\n",
    "stats.describe(norm_4)"
   ]
  },
  {
   "cell_type": "code",
   "execution_count": null,
   "id": "gorgeous-rendering",
   "metadata": {},
   "outputs": [],
   "source": [
    "sns.set_style(\"whitegrid\")\n",
    "sns.histplot(norm_4, bins=40, edgecolor='gold', linewidth=7, color='black', kde='kde')\n",
    "plt.show()"
   ]
  },
  {
   "cell_type": "code",
   "execution_count": null,
   "id": "amateur-railway",
   "metadata": {},
   "outputs": [],
   "source": [
    "norm_5=stats.norm.rvs(loc=0, scale=10, size=100000, random_state=None)\n",
    "sns.set_style(\"whitegrid\")\n",
    "sns.histplot(norm_5, bins=40, edgecolor='g', linewidth=2, color='black', kde='kde')\n",
    "plt.show()"
   ]
  },
  {
   "cell_type": "code",
   "execution_count": null,
   "id": "wooden-garbage",
   "metadata": {},
   "outputs": [],
   "source": [
    "print(norm_5.mean())\n",
    "print(norm_5.std())\n",
    "print(stats.describe(norm_5))"
   ]
  },
  {
   "cell_type": "markdown",
   "id": "right-north",
   "metadata": {},
   "source": [
    "<p>\n",
    "The empirical means and std's are deviating slightly from the theorectical normal distribution.<br>\n",
    "According to the law of large numbers the difference should diminish.</p> "
   ]
  },
  {
   "cell_type": "markdown",
   "id": "egyptian-gallery",
   "metadata": {},
   "source": [
    "###  scipy.sparse.random(m, n, density=0.01, format='coo', dtype=None, random_state=None, data_rvs=None)"
   ]
  },
  {
   "cell_type": "code",
   "execution_count": null,
   "id": "military-prairie",
   "metadata": {},
   "outputs": [],
   "source": [
    "S=scipy.sparse.random(2, 5, density=0.5, format='coo', \n",
    "                      dtype=None, random_state=None, data_rvs=None)"
   ]
  },
  {
   "cell_type": "code",
   "execution_count": null,
   "id": "listed-aquatic",
   "metadata": {},
   "outputs": [],
   "source": [
    "S.A"
   ]
  }
 ],
 "metadata": {
  "kernelspec": {
   "display_name": "Python [conda env:spatial] *",
   "language": "python",
   "name": "conda-env-spatial-py"
  },
  "language_info": {
   "codemirror_mode": {
    "name": "ipython",
    "version": 3
   },
   "file_extension": ".py",
   "mimetype": "text/x-python",
   "name": "python",
   "nbconvert_exporter": "python",
   "pygments_lexer": "ipython3",
   "version": "3.7.10"
  }
 },
 "nbformat": 4,
 "nbformat_minor": 5
}
